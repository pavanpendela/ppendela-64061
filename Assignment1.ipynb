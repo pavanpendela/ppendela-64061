{
  "nbformat": 4,
  "nbformat_minor": 0,
  "metadata": {
    "colab": {
      "provenance": [],
      "authorship_tag": "ABX9TyNEAUqq7m3O0Vg65qUkFXkx",
      "include_colab_link": true
    },
    "kernelspec": {
      "name": "python3",
      "display_name": "Python 3"
    },
    "language_info": {
      "name": "python"
    }
  },
  "cells": [
    {
      "cell_type": "markdown",
      "metadata": {
        "id": "view-in-github",
        "colab_type": "text"
      },
      "source": [
        "<a href=\"https://colab.research.google.com/github/pavanpendela/ppendela-64061/blob/main/Assignment1.ipynb\" target=\"_parent\"><img src=\"https://colab.research.google.com/assets/colab-badge.svg\" alt=\"Open In Colab\"/></a>"
      ]
    },
    {
      "cell_type": "markdown",
      "source": [
        "**AML-Assignment 1**"
      ],
      "metadata": {
        "id": "mReRS8rSVUSf"
      }
    },
    {
      "cell_type": "markdown",
      "source": [
        "Neural Networks\n",
        "\n",
        "The library tensorflow.keras.datasets is used to load the IMDB Dataset in the workspace"
      ],
      "metadata": {
        "id": "MjR48jptVoXS"
      }
    },
    {
      "cell_type": "code",
      "source": [
        "from tensorflow.keras.datasets import imdb\n",
        "(train_data, train_labels), (test_data, test_labels) = imdb.load_data(\n",
        "    num_words=10000)"
      ],
      "metadata": {
        "colab": {
          "base_uri": "https://localhost:8080/"
        },
        "id": "EW5qEyIHV8-t",
        "outputId": "744bbc46-e3de-46f4-bca0-c8149154f343"
      },
      "execution_count": 1,
      "outputs": [
        {
          "output_type": "stream",
          "name": "stdout",
          "text": [
            "Downloading data from https://storage.googleapis.com/tensorflow/tf-keras-datasets/imdb.npz\n",
            "17465344/17464789 [==============================] - 0s 0us/step\n",
            "17473536/17464789 [==============================] - 0s 0us/step\n"
          ]
        }
      ]
    },
    {
      "cell_type": "code",
      "source": [
        "# Decoding reviews back to text\n",
        "\n",
        "word_index = imdb.get_word_index()\n",
        "reverse_word_index = dict(\n",
        "    [(value, key) for (key, value) in word_index.items()])\n",
        "decoded_review = \" \".join(\n",
        "    [reverse_word_index.get(i - 3, \"?\") for i in train_data[0]])"
      ],
      "metadata": {
        "colab": {
          "base_uri": "https://localhost:8080/"
        },
        "id": "k1tt74TdWQAr",
        "outputId": "78bce625-c943-4a5b-8aa5-4502d8ed72c6"
      },
      "execution_count": 2,
      "outputs": [
        {
          "output_type": "stream",
          "name": "stdout",
          "text": [
            "Downloading data from https://storage.googleapis.com/tensorflow/tf-keras-datasets/imdb_word_index.json\n",
            "1646592/1641221 [==============================] - 0s 0us/step\n",
            "1654784/1641221 [==============================] - 0s 0us/step\n"
          ]
        }
      ]
    },
    {
      "cell_type": "markdown",
      "source": [
        "Preparing the data"
      ],
      "metadata": {
        "id": "KsZ6qZRIWZ4n"
      }
    },
    {
      "cell_type": "code",
      "source": [
        "# Encoding the integer sequences via multi-hot encoding\n",
        "import numpy as np\n",
        "def vectorize_sequences(sequences, dimension=10000):\n",
        "    results = np.zeros((len(sequences), dimension))\n",
        "    for i, sequence in enumerate(sequences):\n",
        "        for j in sequence:\n",
        "            results[i, j] = 1.\n",
        "    return results\n",
        "x_train = vectorize_sequences(train_data)\n",
        "x_test = vectorize_sequences(test_data)"
      ],
      "metadata": {
        "id": "X9noaHQHW_KZ"
      },
      "execution_count": 6,
      "outputs": []
    },
    {
      "cell_type": "code",
      "source": [
        "y_train = np.asarray(train_labels).astype(\"float32\")\n",
        "y_test = np.asarray(test_labels).astype(\"float32\")"
      ],
      "metadata": {
        "id": "ngvgUS7HXl5r"
      },
      "execution_count": 7,
      "outputs": []
    },
    {
      "cell_type": "markdown",
      "source": [
        "Building Model using Relu function"
      ],
      "metadata": {
        "id": "PmPpEfBoX0Nw"
      }
    },
    {
      "cell_type": "code",
      "source": [
        "from tensorflow import keras\n",
        "from tensorflow.keras import layers\n",
        "\n",
        "model = keras.Sequential([\n",
        "    layers.Dense(16, activation=\"relu\"),\n",
        "    layers.Dense(16, activation=\"relu\"),\n",
        "    layers.Dense(1, activation=\"sigmoid\")\n",
        "])"
      ],
      "metadata": {
        "id": "x_aj4juoX1Lx"
      },
      "execution_count": 8,
      "outputs": []
    },
    {
      "cell_type": "code",
      "source": [
        "# Compiling the model\n",
        "\n",
        "model.compile(optimizer=\"rmsprop\",\n",
        "              loss=\"binary_crossentropy\",\n",
        "              metrics=[\"accuracy\"])"
      ],
      "metadata": {
        "id": "9td3-EwKYBYK"
      },
      "execution_count": 9,
      "outputs": []
    },
    {
      "cell_type": "code",
      "source": [
        "# Setting aside a validation set\n",
        "\n",
        "x_val = x_train[:10000]\n",
        "partial_x_train = x_train[10000:]\n",
        "y_val = y_train[:10000]\n",
        "partial_y_train = y_train[10000:]"
      ],
      "metadata": {
        "id": "kg2DYPR3YG63"
      },
      "execution_count": 10,
      "outputs": []
    },
    {
      "cell_type": "code",
      "source": [
        "# Training your model\n",
        "\n",
        "history = model.fit(partial_x_train,\n",
        "                    partial_y_train,\n",
        "                    epochs=20,\n",
        "                    batch_size=512,\n",
        "                    validation_data=(x_val, y_val))"
      ],
      "metadata": {
        "colab": {
          "base_uri": "https://localhost:8080/"
        },
        "id": "TLrO8ti4YLNC",
        "outputId": "0c6ebbce-0d0f-4983-d5c0-f6e159c01176"
      },
      "execution_count": 11,
      "outputs": [
        {
          "output_type": "stream",
          "name": "stdout",
          "text": [
            "Epoch 1/20\n",
            "30/30 [==============================] - 2s 49ms/step - loss: 0.5008 - accuracy: 0.7882 - val_loss: 0.4258 - val_accuracy: 0.8185\n",
            "Epoch 2/20\n",
            "30/30 [==============================] - 1s 37ms/step - loss: 0.2955 - accuracy: 0.9028 - val_loss: 0.2978 - val_accuracy: 0.8890\n",
            "Epoch 3/20\n",
            "30/30 [==============================] - 1s 35ms/step - loss: 0.2122 - accuracy: 0.9311 - val_loss: 0.2790 - val_accuracy: 0.8886\n",
            "Epoch 4/20\n",
            "30/30 [==============================] - 1s 36ms/step - loss: 0.1682 - accuracy: 0.9459 - val_loss: 0.2911 - val_accuracy: 0.8839\n",
            "Epoch 5/20\n",
            "30/30 [==============================] - 1s 36ms/step - loss: 0.1361 - accuracy: 0.9569 - val_loss: 0.2879 - val_accuracy: 0.8856\n",
            "Epoch 6/20\n",
            "30/30 [==============================] - 1s 35ms/step - loss: 0.1135 - accuracy: 0.9649 - val_loss: 0.3007 - val_accuracy: 0.8833\n",
            "Epoch 7/20\n",
            "30/30 [==============================] - 1s 36ms/step - loss: 0.0892 - accuracy: 0.9741 - val_loss: 0.3186 - val_accuracy: 0.8824\n",
            "Epoch 8/20\n",
            "30/30 [==============================] - 1s 36ms/step - loss: 0.0737 - accuracy: 0.9791 - val_loss: 0.3430 - val_accuracy: 0.8788\n",
            "Epoch 9/20\n",
            "30/30 [==============================] - 1s 35ms/step - loss: 0.0632 - accuracy: 0.9827 - val_loss: 0.3874 - val_accuracy: 0.8713\n",
            "Epoch 10/20\n",
            "30/30 [==============================] - 1s 35ms/step - loss: 0.0457 - accuracy: 0.9898 - val_loss: 0.4070 - val_accuracy: 0.8766\n",
            "Epoch 11/20\n",
            "30/30 [==============================] - 1s 35ms/step - loss: 0.0387 - accuracy: 0.9913 - val_loss: 0.4999 - val_accuracy: 0.8572\n",
            "Epoch 12/20\n",
            "30/30 [==============================] - 1s 45ms/step - loss: 0.0322 - accuracy: 0.9933 - val_loss: 0.4593 - val_accuracy: 0.8723\n",
            "Epoch 13/20\n",
            "30/30 [==============================] - 2s 53ms/step - loss: 0.0232 - accuracy: 0.9955 - val_loss: 0.4935 - val_accuracy: 0.8706\n",
            "Epoch 14/20\n",
            "30/30 [==============================] - 1s 41ms/step - loss: 0.0198 - accuracy: 0.9963 - val_loss: 0.5211 - val_accuracy: 0.8711\n",
            "Epoch 15/20\n",
            "30/30 [==============================] - 1s 34ms/step - loss: 0.0134 - accuracy: 0.9985 - val_loss: 0.6095 - val_accuracy: 0.8572\n",
            "Epoch 16/20\n",
            "30/30 [==============================] - 1s 34ms/step - loss: 0.0128 - accuracy: 0.9977 - val_loss: 0.5863 - val_accuracy: 0.8706\n",
            "Epoch 17/20\n",
            "30/30 [==============================] - 1s 35ms/step - loss: 0.0063 - accuracy: 0.9998 - val_loss: 0.6203 - val_accuracy: 0.8688\n",
            "Epoch 18/20\n",
            "30/30 [==============================] - 1s 35ms/step - loss: 0.0090 - accuracy: 0.9983 - val_loss: 0.6534 - val_accuracy: 0.8665\n",
            "Epoch 19/20\n",
            "30/30 [==============================] - 1s 35ms/step - loss: 0.0043 - accuracy: 0.9995 - val_loss: 0.7990 - val_accuracy: 0.8489\n",
            "Epoch 20/20\n",
            "30/30 [==============================] - 1s 35ms/step - loss: 0.0031 - accuracy: 0.9999 - val_loss: 0.7317 - val_accuracy: 0.8667\n"
          ]
        }
      ]
    },
    {
      "cell_type": "code",
      "source": [
        "# Plotting the training and validation loss\n",
        "import matplotlib.pyplot as plt\n",
        "history_dict = history.history\n",
        "loss_values = history_dict[\"loss\"]\n",
        "val_loss_values = history_dict[\"val_loss\"]\n",
        "epochs = range(1, len(loss_values) + 1)\n",
        "plt.plot(epochs, loss_values, \"bo\", label=\"Training loss\")\n",
        "plt.plot(epochs, val_loss_values, \"b\", label=\"Validation loss\")\n",
        "plt.title(\"Training and validation loss\")\n",
        "plt.xlabel(\"Epochs\")\n",
        "plt.ylabel(\"Loss\")\n",
        "plt.legend()\n",
        "plt.show()"
      ],
      "metadata": {
        "colab": {
          "base_uri": "https://localhost:8080/",
          "height": 295
        },
        "id": "aP5g2JSvYQTm",
        "outputId": "5fe8092f-2d75-49c0-efc1-8accf43bcf26"
      },
      "execution_count": 13,
      "outputs": [
        {
          "output_type": "display_data",
          "data": {
            "text/plain": [
              "<Figure size 432x288 with 1 Axes>"
            ],
            "image/png": "[encoded data removed]"
          },
          "metadata": {
            "needs_background": "light"
          }
        }
      ]
    },
    {
      "cell_type": "code",
      "source": [
        "# Plotting the training and validation accuracy\n",
        "\n",
        "plt.clf()\n",
        "acc = history_dict[\"accuracy\"]\n",
        "val_acc = history_dict[\"val_accuracy\"]\n",
        "plt.plot(epochs, acc, \"bo\", label=\"Training acc\")\n",
        "plt.plot(epochs, val_acc, \"b\", label=\"Validation acc\")\n",
        "plt.title(\"Training and validation accuracy\")\n",
        "plt.xlabel(\"Epochs\")\n",
        "plt.ylabel(\"Accuracy\")\n",
        "plt.legend()\n",
        "plt.show()"
      ],
      "metadata": {
        "colab": {
          "base_uri": "https://localhost:8080/",
          "height": 295
        },
        "id": "wg2ztoH2Ymri",
        "outputId": "580d7a1f-210a-4b8c-97ce-32f0ca182200"
      },
      "execution_count": 14,
      "outputs": [
        {
          "output_type": "display_data",
          "data": {
            "text/plain": [
              "<Figure size 432x288 with 1 Axes>"
            ],
            "image/png": "[encoded data removed]"
          },
          "metadata": {
            "needs_background": "light"
          }
        }
      ]
    },
    {
      "cell_type": "code",
      "source": [
        "# Retraining a model from scratch\n",
        "\n",
        "model = keras.Sequential([\n",
        "    layers.Dense(16, activation=\"relu\"),\n",
        "    layers.Dense(16, activation=\"relu\"),\n",
        "    layers.Dense(1, activation=\"sigmoid\")\n",
        "])\n",
        "model.compile(optimizer=\"rmsprop\",\n",
        "              loss=\"binary_crossentropy\",\n",
        "              metrics=[\"accuracy\"])\n",
        "model.fit(x_train, y_train, epochs=4, batch_size=512)\n",
        "results = model.evaluate(x_test, y_test)"
      ],
      "metadata": {
        "colab": {
          "base_uri": "https://localhost:8080/"
        },
        "id": "IBz8uDKZYs8U",
        "outputId": "e88660c2-744c-45ef-f3f1-68aa1de6c13e"
      },
      "execution_count": 15,
      "outputs": [
        {
          "output_type": "stream",
          "name": "stdout",
          "text": [
            "Epoch 1/4\n",
            "49/49 [==============================] - 3s 51ms/step - loss: 0.4550 - accuracy: 0.8234\n",
            "Epoch 2/4\n",
            "49/49 [==============================] - 2s 35ms/step - loss: 0.2642 - accuracy: 0.9093\n",
            "Epoch 3/4\n",
            "49/49 [==============================] - 1s 27ms/step - loss: 0.2058 - accuracy: 0.9272\n",
            "Epoch 4/4\n",
            "49/49 [==============================] - 1s 26ms/step - loss: 0.1716 - accuracy: 0.9391\n",
            "782/782 [==============================] - 2s 2ms/step - loss: 0.2911 - accuracy: 0.8834\n"
          ]
        }
      ]
    },
    {
      "cell_type": "markdown",
      "source": [
        "**Q1. You used two hidden layers. Try using one or three hidden layers, and see how doing so affects validation and test accuracy.**"
      ],
      "metadata": {
        "id": "5_7Yo0HRY0jy"
      }
    },
    {
      "cell_type": "code",
      "source": [
        "model_11 = keras.Sequential([\n",
        "    layers.Dense(16, activation=\"relu\"),\n",
        "    layers.Dense(16, activation=\"relu\"),\n",
        "    layers.Dense(16, activation=\"relu\"),\n",
        "    layers.Dense(1, activation=\"sigmoid\")\n",
        "])\n",
        "\n",
        "model_12 = keras.Sequential([\n",
        "    layers.Dense(16, activation=\"relu\"),\n",
        "    layers.Dense(1, activation=\"sigmoid\")\n",
        "])"
      ],
      "metadata": {
        "id": "49B69E6eY6d3"
      },
      "execution_count": 16,
      "outputs": []
    },
    {
      "cell_type": "code",
      "source": [
        "model_11.compile(optimizer=\"rmsprop\",\n",
        "              loss=\"binary_crossentropy\",\n",
        "              metrics=[\"accuracy\"])\n",
        "\n",
        "model_12.compile(optimizer=\"rmsprop\",\n",
        "              loss=\"binary_crossentropy\",\n",
        "              metrics=[\"accuracy\"])"
      ],
      "metadata": {
        "id": "Qyxbp_CDZAml"
      },
      "execution_count": 17,
      "outputs": []
    },
    {
      "cell_type": "code",
      "source": [
        "# Training your model\n",
        "\n",
        "history_11 = model_11.fit(partial_x_train,\n",
        "                    partial_y_train,\n",
        "                    epochs=20,\n",
        "                    batch_size=512,\n",
        "                    validation_data=(x_val, y_val))\n",
        "\n",
        "history_12 = model_12.fit(partial_x_train,\n",
        "                    partial_y_train,\n",
        "                    epochs=20,\n",
        "                    batch_size=512,\n",
        "                    validation_data=(x_val, y_val))"
      ],
      "metadata": {
        "colab": {
          "base_uri": "https://localhost:8080/"
        },
        "id": "tdXF73qhZE2b",
        "outputId": "3d974cbc-a0b1-4874-ebdf-3481c50c14ee"
      },
      "execution_count": 18,
      "outputs": [
        {
          "output_type": "stream",
          "name": "stdout",
          "text": [
            "Epoch 1/20\n",
            "30/30 [==============================] - 2s 44ms/step - loss: 0.5485 - accuracy: 0.7651 - val_loss: 0.4179 - val_accuracy: 0.8719\n",
            "Epoch 2/20\n",
            "30/30 [==============================] - 1s 35ms/step - loss: 0.3255 - accuracy: 0.8998 - val_loss: 0.3185 - val_accuracy: 0.8807\n",
            "Epoch 3/20\n",
            "30/30 [==============================] - 1s 35ms/step - loss: 0.2284 - accuracy: 0.9264 - val_loss: 0.2963 - val_accuracy: 0.8839\n",
            "Epoch 4/20\n",
            "30/30 [==============================] - 1s 35ms/step - loss: 0.1713 - accuracy: 0.9441 - val_loss: 0.2898 - val_accuracy: 0.8857\n",
            "Epoch 5/20\n",
            "30/30 [==============================] - 1s 35ms/step - loss: 0.1379 - accuracy: 0.9557 - val_loss: 0.3230 - val_accuracy: 0.8751\n",
            "Epoch 6/20\n",
            "30/30 [==============================] - 1s 35ms/step - loss: 0.1147 - accuracy: 0.9646 - val_loss: 0.3562 - val_accuracy: 0.8696\n",
            "Epoch 7/20\n",
            "30/30 [==============================] - 1s 36ms/step - loss: 0.0931 - accuracy: 0.9728 - val_loss: 0.3425 - val_accuracy: 0.8776\n",
            "Epoch 8/20\n",
            "30/30 [==============================] - 1s 35ms/step - loss: 0.0736 - accuracy: 0.9799 - val_loss: 0.3612 - val_accuracy: 0.8775\n",
            "Epoch 9/20\n",
            "30/30 [==============================] - 1s 36ms/step - loss: 0.0605 - accuracy: 0.9846 - val_loss: 0.3867 - val_accuracy: 0.8755\n",
            "Epoch 10/20\n",
            "30/30 [==============================] - 1s 35ms/step - loss: 0.0471 - accuracy: 0.9880 - val_loss: 0.4350 - val_accuracy: 0.8718\n",
            "Epoch 11/20\n",
            "30/30 [==============================] - 1s 35ms/step - loss: 0.0366 - accuracy: 0.9908 - val_loss: 0.4584 - val_accuracy: 0.8740\n",
            "Epoch 12/20\n",
            "30/30 [==============================] - 1s 35ms/step - loss: 0.0336 - accuracy: 0.9898 - val_loss: 0.4911 - val_accuracy: 0.8705\n",
            "Epoch 13/20\n",
            "30/30 [==============================] - 1s 35ms/step - loss: 0.0257 - accuracy: 0.9932 - val_loss: 0.5211 - val_accuracy: 0.8708\n",
            "Epoch 14/20\n",
            "30/30 [==============================] - 1s 35ms/step - loss: 0.0155 - accuracy: 0.9977 - val_loss: 0.5887 - val_accuracy: 0.8630\n",
            "Epoch 15/20\n",
            "30/30 [==============================] - 1s 36ms/step - loss: 0.0139 - accuracy: 0.9973 - val_loss: 0.6557 - val_accuracy: 0.8603\n",
            "Epoch 16/20\n",
            "30/30 [==============================] - 1s 38ms/step - loss: 0.0067 - accuracy: 0.9994 - val_loss: 0.6669 - val_accuracy: 0.8629\n",
            "Epoch 17/20\n",
            "30/30 [==============================] - 1s 49ms/step - loss: 0.0150 - accuracy: 0.9957 - val_loss: 0.6844 - val_accuracy: 0.8663\n",
            "Epoch 18/20\n",
            "30/30 [==============================] - 1s 35ms/step - loss: 0.0031 - accuracy: 0.9999 - val_loss: 0.7135 - val_accuracy: 0.8662\n",
            "Epoch 19/20\n",
            "30/30 [==============================] - 1s 34ms/step - loss: 0.0165 - accuracy: 0.9956 - val_loss: 0.7655 - val_accuracy: 0.8656\n",
            "Epoch 20/20\n",
            "30/30 [==============================] - 1s 33ms/step - loss: 0.0019 - accuracy: 0.9999 - val_loss: 0.7828 - val_accuracy: 0.8647\n",
            "Epoch 1/20\n",
            "30/30 [==============================] - 2s 42ms/step - loss: 0.5033 - accuracy: 0.7987 - val_loss: 0.3903 - val_accuracy: 0.8706\n",
            "Epoch 2/20\n",
            "30/30 [==============================] - 1s 37ms/step - loss: 0.3180 - accuracy: 0.9033 - val_loss: 0.3270 - val_accuracy: 0.8748\n",
            "Epoch 3/20\n",
            "30/30 [==============================] - 1s 35ms/step - loss: 0.2463 - accuracy: 0.9221 - val_loss: 0.2961 - val_accuracy: 0.8844\n",
            "Epoch 4/20\n",
            "30/30 [==============================] - 1s 38ms/step - loss: 0.2024 - accuracy: 0.9365 - val_loss: 0.2833 - val_accuracy: 0.8865\n",
            "Epoch 5/20\n",
            "30/30 [==============================] - 1s 34ms/step - loss: 0.1728 - accuracy: 0.9473 - val_loss: 0.2725 - val_accuracy: 0.8919\n",
            "Epoch 6/20\n",
            "30/30 [==============================] - 1s 34ms/step - loss: 0.1485 - accuracy: 0.9557 - val_loss: 0.2741 - val_accuracy: 0.8902\n",
            "Epoch 7/20\n",
            "30/30 [==============================] - 1s 35ms/step - loss: 0.1298 - accuracy: 0.9618 - val_loss: 0.2886 - val_accuracy: 0.8820\n",
            "Epoch 8/20\n",
            "30/30 [==============================] - 1s 34ms/step - loss: 0.1135 - accuracy: 0.9679 - val_loss: 0.2864 - val_accuracy: 0.8859\n",
            "Epoch 9/20\n",
            "30/30 [==============================] - 1s 37ms/step - loss: 0.1009 - accuracy: 0.9726 - val_loss: 0.3041 - val_accuracy: 0.8821\n",
            "Epoch 10/20\n",
            "30/30 [==============================] - 1s 37ms/step - loss: 0.0891 - accuracy: 0.9773 - val_loss: 0.3071 - val_accuracy: 0.8831\n",
            "Epoch 11/20\n",
            "30/30 [==============================] - 1s 34ms/step - loss: 0.0789 - accuracy: 0.9807 - val_loss: 0.3189 - val_accuracy: 0.8823\n",
            "Epoch 12/20\n",
            "30/30 [==============================] - 1s 33ms/step - loss: 0.0700 - accuracy: 0.9841 - val_loss: 0.3370 - val_accuracy: 0.8815\n",
            "Epoch 13/20\n",
            "30/30 [==============================] - 1s 34ms/step - loss: 0.0624 - accuracy: 0.9868 - val_loss: 0.3489 - val_accuracy: 0.8767\n",
            "Epoch 14/20\n",
            "30/30 [==============================] - 1s 34ms/step - loss: 0.0546 - accuracy: 0.9892 - val_loss: 0.3703 - val_accuracy: 0.8788\n",
            "Epoch 15/20\n",
            "30/30 [==============================] - 1s 34ms/step - loss: 0.0480 - accuracy: 0.9909 - val_loss: 0.3770 - val_accuracy: 0.8791\n",
            "Epoch 16/20\n",
            "30/30 [==============================] - 1s 33ms/step - loss: 0.0425 - accuracy: 0.9926 - val_loss: 0.3935 - val_accuracy: 0.8757\n",
            "Epoch 17/20\n",
            "30/30 [==============================] - 1s 33ms/step - loss: 0.0375 - accuracy: 0.9937 - val_loss: 0.4212 - val_accuracy: 0.8685\n",
            "Epoch 18/20\n",
            "30/30 [==============================] - 1s 34ms/step - loss: 0.0327 - accuracy: 0.9950 - val_loss: 0.4335 - val_accuracy: 0.8709\n",
            "Epoch 19/20\n",
            "30/30 [==============================] - 1s 33ms/step - loss: 0.0286 - accuracy: 0.9963 - val_loss: 0.4508 - val_accuracy: 0.8715\n",
            "Epoch 20/20\n",
            "30/30 [==============================] - 1s 33ms/step - loss: 0.0255 - accuracy: 0.9963 - val_loss: 0.4694 - val_accuracy: 0.8722\n"
          ]
        }
      ]
    },
    {
      "cell_type": "code",
      "source": [
        "model_11.summary()\n",
        "model_12.summary()"
      ],
      "metadata": {
        "colab": {
          "base_uri": "https://localhost:8080/"
        },
        "id": "sBSvauMcZJ9_",
        "outputId": "0a0e29a0-8368-4fdc-bff8-45f8e077de7c"
      },
      "execution_count": 19,
      "outputs": [
        {
          "output_type": "stream",
          "name": "stdout",
          "text": [
            "Model: \"sequential_2\"\n",
            "_________________________________________________________________\n",
            " Layer (type)                Output Shape              Param #   \n",
            "=================================================================\n",
            " dense_6 (Dense)             (None, 16)                160016    \n",
            "                                                                 \n",
            " dense_7 (Dense)             (None, 16)                272       \n",
            "                                                                 \n",
            " dense_8 (Dense)             (None, 16)                272       \n",
            "                                                                 \n",
            " dense_9 (Dense)             (None, 1)                 17        \n",
            "                                                                 \n",
            "=================================================================\n",
            "Total params: 160,577\n",
            "Trainable params: 160,577\n",
            "Non-trainable params: 0\n",
            "_________________________________________________________________\n",
            "Model: \"sequential_3\"\n",
            "_________________________________________________________________\n",
            " Layer (type)                Output Shape              Param #   \n",
            "=================================================================\n",
            " dense_10 (Dense)            (None, 16)                160016    \n",
            "                                                                 \n",
            " dense_11 (Dense)            (None, 1)                 17        \n",
            "                                                                 \n",
            "=================================================================\n",
            "Total params: 160,033\n",
            "Trainable params: 160,033\n",
            "Non-trainable params: 0\n",
            "_________________________________________________________________\n"
          ]
        }
      ]
    },
    {
      "cell_type": "code",
      "source": [
        "# Plotting the training and validation loss\n",
        "history_dict_11 = history_11.history\n",
        "history_dict_12 = history_12.history\n",
        "\n",
        "plt.plot(history_11.history['val_loss'], 'r', history_12.history['val_loss'], 'b')\n",
        "plt.xlabel('Epochs')\n",
        "plt.ylabel('Validation score')\n",
        "plt.legend()"
      ],
      "metadata": {
        "colab": {
          "base_uri": "https://localhost:8080/",
          "height": 315
        },
        "id": "zKptisZTZhCM",
        "outputId": "d8806814-c4a2-48f7-f5a9-7515b8beeeb7"
      },
      "execution_count": 20,
      "outputs": [
        {
          "output_type": "stream",
          "name": "stderr",
          "text": [
            "WARNING:matplotlib.legend:No handles with labels found to put in legend.\n"
          ]
        },
        {
          "output_type": "execute_result",
          "data": {
            "text/plain": [
              "<matplotlib.legend.Legend at 0x7f1f385f4f90>"
            ]
          },
          "metadata": {},
          "execution_count": 20
        },
        {
          "output_type": "display_data",
          "data": {
            "text/plain": [
              "<Figure size 432x288 with 1 Axes>"
            ],
            "image/png": "[encoded data removed]"
          },
          "metadata": {
            "needs_background": "light"
          }
        }
      ]
    },
    {
      "cell_type": "code",
      "source": [
        "# Plotting the training and validation accuracy\n",
        "plt.clf()\n",
        "acc = history_dict_11[\"accuracy\"]\n",
        "val_acc = history_dict_11[\"val_accuracy\"]\n",
        "plt.plot(epochs, acc, \"bo\", label=\"Training acc\")\n",
        "plt.plot(epochs, val_acc, \"b\", label=\"Validation acc\")\n",
        "plt.title(\"Training and validation accuracy\")\n",
        "plt.xlabel(\"Epochs\")\n",
        "plt.ylabel(\"Accuracy\")\n",
        "plt.legend()\n",
        "plt.show()\n",
        "\n"
      ],
      "metadata": {
        "colab": {
          "base_uri": "https://localhost:8080/",
          "height": 295
        },
        "id": "kFq28yeOaAHz",
        "outputId": "88f72a3e-dc76-4e57-8055-cba186f8e500"
      },
      "execution_count": 22,
      "outputs": [
        {
          "output_type": "display_data",
          "data": {
            "text/plain": [
              "<Figure size 432x288 with 1 Axes>"
            ],
            "image/png": "[encoded data removed]"
          },
          "metadata": {
            "needs_background": "light"
          }
        }
      ]
    },
    {
      "cell_type": "code",
      "source": [
        "#-------------------------------------------\n",
        "#plot_loss(history_dict_11.history['loss'], history_dict_11.history['val_loss'])\n",
        "#-------------------------------------------\n",
        "\n",
        "plt.clf()\n",
        "acc = history_dict_12[\"accuracy\"]\n",
        "val_acc = history_dict_12[\"val_accuracy\"]\n",
        "plt.plot(epochs, acc, \"bo\", label=\"Training acc\")\n",
        "plt.plot(epochs, val_acc, \"b\", label=\"Validation acc\")\n",
        "plt.title(\"Training and validation accuracy\")\n",
        "plt.xlabel(\"Epochs\")\n",
        "plt.ylabel(\"Accuracy\")\n",
        "plt.legend()\n",
        "plt.show()"
      ],
      "metadata": {
        "colab": {
          "base_uri": "https://localhost:8080/",
          "height": 295
        },
        "id": "as61JhYXaRpd",
        "outputId": "80d81fda-6ff4-40aa-8602-cdb44c98d172"
      },
      "execution_count": 23,
      "outputs": [
        {
          "output_type": "display_data",
          "data": {
            "text/plain": [
              "<Figure size 432x288 with 1 Axes>"
            ],
            "image/png": "[encoded data removed]"
          },
          "metadata": {
            "needs_background": "light"
          }
        }
      ]
    },
    {
      "cell_type": "markdown",
      "source": [
        "**2.Try using layers with more hidden units or fewer hidden units: 32 units, 64 units, and so on.**"
      ],
      "metadata": {
        "id": "Fu9Vc18OacX7"
      }
    },
    {
      "cell_type": "code",
      "source": [
        "model_21 = keras.Sequential([\n",
        "    layers.Dense(32, activation=\"relu\"),\n",
        "    layers.Dense(64, activation=\"relu\"),\n",
        "    layers.Dense(1, activation=\"sigmoid\")\n",
        "])"
      ],
      "metadata": {
        "id": "yJ-PDkARae1_"
      },
      "execution_count": 24,
      "outputs": []
    },
    {
      "cell_type": "code",
      "source": [
        "model_21.compile(optimizer=\"rmsprop\",\n",
        "              loss=\"binary_crossentropy\",\n",
        "              metrics=[\"accuracy\"])"
      ],
      "metadata": {
        "id": "o-YQQHp0arbY"
      },
      "execution_count": 25,
      "outputs": []
    },
    {
      "cell_type": "code",
      "source": [
        "history_21 = model_21.fit(partial_x_train,\n",
        "                    partial_y_train,\n",
        "                    epochs=20,\n",
        "                    batch_size=512,\n",
        "                    validation_data=(x_val, y_val))"
      ],
      "metadata": {
        "colab": {
          "base_uri": "https://localhost:8080/"
        },
        "id": "DIWM6dD4at09",
        "outputId": "a7e9fca0-3e1f-4bc0-a682-2b18efbb6de9"
      },
      "execution_count": 26,
      "outputs": [
        {
          "output_type": "stream",
          "name": "stdout",
          "text": [
            "Epoch 1/20\n",
            "30/30 [==============================] - 3s 63ms/step - loss: 0.4966 - accuracy: 0.7881 - val_loss: 0.3578 - val_accuracy: 0.8661\n",
            "Epoch 2/20\n",
            "30/30 [==============================] - 1s 45ms/step - loss: 0.2780 - accuracy: 0.9028 - val_loss: 0.2843 - val_accuracy: 0.8901\n",
            "Epoch 3/20\n",
            "30/30 [==============================] - 1s 43ms/step - loss: 0.1983 - accuracy: 0.9323 - val_loss: 0.2749 - val_accuracy: 0.8897\n",
            "Epoch 4/20\n",
            "30/30 [==============================] - 1s 44ms/step - loss: 0.1503 - accuracy: 0.9487 - val_loss: 0.3649 - val_accuracy: 0.8602\n",
            "Epoch 5/20\n",
            "30/30 [==============================] - 1s 44ms/step - loss: 0.1213 - accuracy: 0.9581 - val_loss: 0.3446 - val_accuracy: 0.8711\n",
            "Epoch 6/20\n",
            "30/30 [==============================] - 1s 45ms/step - loss: 0.0963 - accuracy: 0.9685 - val_loss: 0.3873 - val_accuracy: 0.8700\n",
            "Epoch 7/20\n",
            "30/30 [==============================] - 1s 45ms/step - loss: 0.0716 - accuracy: 0.9783 - val_loss: 0.3550 - val_accuracy: 0.8834\n",
            "Epoch 8/20\n",
            "30/30 [==============================] - 1s 44ms/step - loss: 0.0554 - accuracy: 0.9846 - val_loss: 0.4081 - val_accuracy: 0.8727\n",
            "Epoch 9/20\n",
            "30/30 [==============================] - 1s 45ms/step - loss: 0.0521 - accuracy: 0.9833 - val_loss: 0.4304 - val_accuracy: 0.8777\n",
            "Epoch 10/20\n",
            "30/30 [==============================] - 1s 44ms/step - loss: 0.0362 - accuracy: 0.9895 - val_loss: 0.4507 - val_accuracy: 0.8759\n",
            "Epoch 11/20\n",
            "30/30 [==============================] - 1s 46ms/step - loss: 0.0170 - accuracy: 0.9972 - val_loss: 0.5727 - val_accuracy: 0.8559\n",
            "Epoch 12/20\n",
            "30/30 [==============================] - 1s 45ms/step - loss: 0.0263 - accuracy: 0.9917 - val_loss: 0.5319 - val_accuracy: 0.8748\n",
            "Epoch 13/20\n",
            "30/30 [==============================] - 2s 62ms/step - loss: 0.0072 - accuracy: 0.9997 - val_loss: 0.5846 - val_accuracy: 0.8728\n",
            "Epoch 14/20\n",
            "30/30 [==============================] - 1s 43ms/step - loss: 0.0208 - accuracy: 0.9936 - val_loss: 0.6166 - val_accuracy: 0.8721\n",
            "Epoch 15/20\n",
            "30/30 [==============================] - 1s 44ms/step - loss: 0.0032 - accuracy: 0.9999 - val_loss: 0.6598 - val_accuracy: 0.8719\n",
            "Epoch 16/20\n",
            "30/30 [==============================] - 1s 43ms/step - loss: 0.0198 - accuracy: 0.9945 - val_loss: 0.7051 - val_accuracy: 0.8697\n",
            "Epoch 17/20\n",
            "30/30 [==============================] - 1s 44ms/step - loss: 0.0014 - accuracy: 1.0000 - val_loss: 0.7315 - val_accuracy: 0.8695\n",
            "Epoch 18/20\n",
            "30/30 [==============================] - 1s 46ms/step - loss: 0.0011 - accuracy: 1.0000 - val_loss: 0.7735 - val_accuracy: 0.8671\n",
            "Epoch 19/20\n",
            "30/30 [==============================] - 1s 46ms/step - loss: 0.0198 - accuracy: 0.9945 - val_loss: 0.8327 - val_accuracy: 0.8664\n",
            "Epoch 20/20\n",
            "30/30 [==============================] - 1s 44ms/step - loss: 4.5977e-04 - accuracy: 1.0000 - val_loss: 0.8554 - val_accuracy: 0.8659\n"
          ]
        }
      ]
    },
    {
      "cell_type": "code",
      "source": [
        "model_21.summary()"
      ],
      "metadata": {
        "colab": {
          "base_uri": "https://localhost:8080/"
        },
        "id": "Dso9asBDa1U8",
        "outputId": "40124a4e-9d4b-45a2-9aac-560dd39989f7"
      },
      "execution_count": 27,
      "outputs": [
        {
          "output_type": "stream",
          "name": "stdout",
          "text": [
            "Model: \"sequential_4\"\n",
            "_________________________________________________________________\n",
            " Layer (type)                Output Shape              Param #   \n",
            "=================================================================\n",
            " dense_12 (Dense)            (None, 32)                320032    \n",
            "                                                                 \n",
            " dense_13 (Dense)            (None, 64)                2112      \n",
            "                                                                 \n",
            " dense_14 (Dense)            (None, 1)                 65        \n",
            "                                                                 \n",
            "=================================================================\n",
            "Total params: 322,209\n",
            "Trainable params: 322,209\n",
            "Non-trainable params: 0\n",
            "_________________________________________________________________\n"
          ]
        }
      ]
    },
    {
      "cell_type": "code",
      "source": [
        "history_dict_21 = history_21.history\n",
        "loss_values = history_dict_21[\"loss\"]\n",
        "val_loss_values = history_dict_21[\"val_loss\"]\n",
        "epochs = range(1, len(loss_values) + 1)\n",
        "plt.plot(epochs, loss_values, \"bo\", label=\"Training loss\")\n",
        "plt.plot(epochs, val_loss_values, \"b\", label=\"Validation loss\")\n",
        "plt.title(\"Training and validation loss\")\n",
        "plt.xlabel(\"Epochs\")\n",
        "plt.ylabel(\"Loss\")\n",
        "plt.legend()\n",
        "plt.show()"
      ],
      "metadata": {
        "colab": {
          "base_uri": "https://localhost:8080/",
          "height": 295
        },
        "id": "qj6ZKJ4Pa_rr",
        "outputId": "84e67676-fcda-4e8c-ff80-1eefd783a248"
      },
      "execution_count": 28,
      "outputs": [
        {
          "output_type": "display_data",
          "data": {
            "text/plain": [
              "<Figure size 432x288 with 1 Axes>"
            ],
            "image/png": "[encoded data removed]"
          },
          "metadata": {
            "needs_background": "light"
          }
        }
      ]
    },
    {
      "cell_type": "code",
      "source": [
        "plt.clf()\n",
        "acc = history_dict_21[\"accuracy\"]\n",
        "val_acc = history_dict_21[\"val_accuracy\"]\n",
        "plt.plot(epochs, acc, \"bo\", label=\"Training acc\")\n",
        "plt.plot(epochs, val_acc, \"b\", label=\"Validation acc\")\n",
        "plt.title(\"Training and validation accuracy\")\n",
        "plt.xlabel(\"Epochs\")\n",
        "plt.ylabel(\"Accuracy\")\n",
        "plt.legend()\n",
        "plt.show()"
      ],
      "metadata": {
        "colab": {
          "base_uri": "https://localhost:8080/",
          "height": 295
        },
        "id": "zbHfaTaVbbo6",
        "outputId": "941d8372-39bc-4e28-d020-02854155517f"
      },
      "execution_count": 30,
      "outputs": [
        {
          "output_type": "display_data",
          "data": {
            "text/plain": [
              "<Figure size 432x288 with 1 Axes>"
            ],
            "image/png": "[encoded data removed]"
          },
          "metadata": {
            "needs_background": "light"
          }
        }
      ]
    },
    {
      "cell_type": "markdown",
      "source": [
        "**3. Try using the 'mse' loss function instead of 'binary_crossentropy'.**"
      ],
      "metadata": {
        "id": "xfjIY0X_biB_"
      }
    },
    {
      "cell_type": "code",
      "source": [
        "model_3 = keras.Sequential([\n",
        "    layers.Dense(16, activation=\"relu\"),\n",
        "    layers.Dense(16, activation=\"relu\"),\n",
        "    layers.Dense(1, activation=\"sigmoid\")\n",
        "])"
      ],
      "metadata": {
        "id": "vU3YhyEzblQg"
      },
      "execution_count": 31,
      "outputs": []
    },
    {
      "cell_type": "code",
      "source": [
        "model_3.compile(optimizer=\"rmsprop\",\n",
        "              loss=\"mse\",\n",
        "              metrics=[\"accuracy\"])"
      ],
      "metadata": {
        "id": "yfC0zPAibuRC"
      },
      "execution_count": 32,
      "outputs": []
    },
    {
      "cell_type": "code",
      "source": [
        "# Training your model\n",
        "\n",
        "history_3 = model_3.fit(partial_x_train,\n",
        "                    partial_y_train,\n",
        "                    epochs=20,\n",
        "                    batch_size=512,\n",
        "                    validation_data=(x_val, y_val))"
      ],
      "metadata": {
        "colab": {
          "base_uri": "https://localhost:8080/"
        },
        "id": "NyjK9vvBbwUR",
        "outputId": "f06bf0c6-efc2-4b0c-fd98-f33a6bdd8d73"
      },
      "execution_count": 33,
      "outputs": [
        {
          "output_type": "stream",
          "name": "stdout",
          "text": [
            "Epoch 1/20\n",
            "30/30 [==============================] - 3s 82ms/step - loss: 0.1680 - accuracy: 0.7881 - val_loss: 0.1186 - val_accuracy: 0.8634\n",
            "Epoch 2/20\n",
            "30/30 [==============================] - 1s 36ms/step - loss: 0.0877 - accuracy: 0.9059 - val_loss: 0.0926 - val_accuracy: 0.8865\n",
            "Epoch 3/20\n",
            "30/30 [==============================] - 1s 37ms/step - loss: 0.0604 - accuracy: 0.9335 - val_loss: 0.0863 - val_accuracy: 0.8856\n",
            "Epoch 4/20\n",
            "30/30 [==============================] - 1s 36ms/step - loss: 0.0470 - accuracy: 0.9487 - val_loss: 0.0875 - val_accuracy: 0.8847\n",
            "Epoch 5/20\n",
            "30/30 [==============================] - 1s 36ms/step - loss: 0.0371 - accuracy: 0.9603 - val_loss: 0.0836 - val_accuracy: 0.8850\n",
            "Epoch 6/20\n",
            "30/30 [==============================] - 1s 37ms/step - loss: 0.0290 - accuracy: 0.9714 - val_loss: 0.0858 - val_accuracy: 0.8813\n",
            "Epoch 7/20\n",
            "30/30 [==============================] - 1s 36ms/step - loss: 0.0257 - accuracy: 0.9755 - val_loss: 0.0881 - val_accuracy: 0.8813\n",
            "Epoch 8/20\n",
            "30/30 [==============================] - 1s 36ms/step - loss: 0.0197 - accuracy: 0.9828 - val_loss: 0.0903 - val_accuracy: 0.8781\n",
            "Epoch 9/20\n",
            "30/30 [==============================] - 1s 36ms/step - loss: 0.0168 - accuracy: 0.9860 - val_loss: 0.0916 - val_accuracy: 0.8779\n",
            "Epoch 10/20\n",
            "30/30 [==============================] - 1s 37ms/step - loss: 0.0138 - accuracy: 0.9878 - val_loss: 0.0945 - val_accuracy: 0.8744\n",
            "Epoch 11/20\n",
            "30/30 [==============================] - 1s 37ms/step - loss: 0.0117 - accuracy: 0.9901 - val_loss: 0.0967 - val_accuracy: 0.8746\n",
            "Epoch 12/20\n",
            "30/30 [==============================] - 1s 36ms/step - loss: 0.0099 - accuracy: 0.9916 - val_loss: 0.0972 - val_accuracy: 0.8750\n",
            "Epoch 13/20\n",
            "30/30 [==============================] - 1s 36ms/step - loss: 0.0085 - accuracy: 0.9924 - val_loss: 0.0993 - val_accuracy: 0.8734\n",
            "Epoch 14/20\n",
            "30/30 [==============================] - 1s 36ms/step - loss: 0.0077 - accuracy: 0.9932 - val_loss: 0.1007 - val_accuracy: 0.8735\n",
            "Epoch 15/20\n",
            "30/30 [==============================] - 1s 36ms/step - loss: 0.0050 - accuracy: 0.9961 - val_loss: 0.1035 - val_accuracy: 0.8704\n",
            "Epoch 16/20\n",
            "30/30 [==============================] - 1s 36ms/step - loss: 0.0053 - accuracy: 0.9953 - val_loss: 0.1125 - val_accuracy: 0.8620\n",
            "Epoch 17/20\n",
            "30/30 [==============================] - 1s 36ms/step - loss: 0.0037 - accuracy: 0.9970 - val_loss: 0.1052 - val_accuracy: 0.8700\n",
            "Epoch 18/20\n",
            "30/30 [==============================] - 1s 36ms/step - loss: 0.0046 - accuracy: 0.9957 - val_loss: 0.1063 - val_accuracy: 0.8700\n",
            "Epoch 19/20\n",
            "30/30 [==============================] - 1s 39ms/step - loss: 0.0029 - accuracy: 0.9974 - val_loss: 0.1075 - val_accuracy: 0.8695\n",
            "Epoch 20/20\n",
            "30/30 [==============================] - 1s 36ms/step - loss: 0.0029 - accuracy: 0.9974 - val_loss: 0.1290 - val_accuracy: 0.8475\n"
          ]
        }
      ]
    },
    {
      "cell_type": "code",
      "source": [
        "history_dict_3 = history_3.history\n",
        "loss_values = history_dict_3[\"loss\"]\n",
        "val_loss_values = history_dict_3[\"val_loss\"]\n",
        "epochs = range(1, len(loss_values) + 1)\n",
        "plt.plot(epochs, loss_values, \"bo\", label=\"Training loss\")\n",
        "plt.plot(epochs, val_loss_values, \"b\", label=\"Validation loss\")\n",
        "plt.title(\"Training and validation loss\")\n",
        "plt.xlabel(\"Epochs\")\n",
        "plt.ylabel(\"Loss\")\n",
        "plt.legend()\n",
        "plt.show()"
      ],
      "metadata": {
        "colab": {
          "base_uri": "https://localhost:8080/",
          "height": 295
        },
        "id": "8fBOK-UBcA8O",
        "outputId": "79c05849-d291-4afc-ef44-e4b5569abe75"
      },
      "execution_count": 34,
      "outputs": [
        {
          "output_type": "display_data",
          "data": {
            "text/plain": [
              "<Figure size 432x288 with 1 Axes>"
            ],
            "image/png": "[encoded data removed]"
          },
          "metadata": {
            "needs_background": "light"
          }
        }
      ]
    },
    {
      "cell_type": "code",
      "source": [
        "# Plotting the training and validation accuracy\n",
        "plt.clf()\n",
        "acc = history_dict_3[\"accuracy\"]\n",
        "val_acc = history_dict_3[\"val_accuracy\"]\n",
        "plt.plot(epochs, acc, \"bo\", label=\"Training acc\")\n",
        "plt.plot(epochs, val_acc, \"b\", label=\"Validation acc\")\n",
        "plt.title(\"Training and validation accuracy\")\n",
        "plt.xlabel(\"Epochs\")\n",
        "plt.ylabel(\"Accuracy\")\n",
        "plt.legend()\n",
        "plt.show()"
      ],
      "metadata": {
        "colab": {
          "base_uri": "https://localhost:8080/",
          "height": 295
        },
        "id": "MS4pfVE8cJCN",
        "outputId": "6a0acd25-ffee-4389-d99e-a099eb93046c"
      },
      "execution_count": 35,
      "outputs": [
        {
          "output_type": "display_data",
          "data": {
            "text/plain": [
              "<Figure size 432x288 with 1 Axes>"
            ],
            "image/png": "[encoded data removed]"
          },
          "metadata": {
            "needs_background": "light"
          }
        }
      ]
    },
    {
      "cell_type": "markdown",
      "source": [
        "**4.Try using the tanh activation (an activation that was popular in the early days of neural networks) instead of 'relu'**"
      ],
      "metadata": {
        "id": "uBbjsIO7cPBO"
      }
    },
    {
      "cell_type": "code",
      "source": [
        "model_4 = keras.Sequential([\n",
        "    layers.Dense(16, activation=\"tanh\"),\n",
        "    layers.Dense(16, activation=\"tanh\"),\n",
        "    layers.Dense(1, activation=\"sigmoid\")\n",
        "])"
      ],
      "metadata": {
        "id": "WaXplw1fcWGX"
      },
      "execution_count": 36,
      "outputs": []
    },
    {
      "cell_type": "code",
      "source": [
        "model_4.compile(optimizer=\"rmsprop\",\n",
        "              loss=\"mse\",\n",
        "              metrics=[\"accuracy\"])"
      ],
      "metadata": {
        "id": "qJAL1RUvcctM"
      },
      "execution_count": 37,
      "outputs": []
    },
    {
      "cell_type": "code",
      "source": [
        "history_4 = model_4.fit(partial_x_train,\n",
        "                    partial_y_train,\n",
        "                    epochs=20,\n",
        "                    batch_size=512,\n",
        "                    validation_data=(x_val, y_val))"
      ],
      "metadata": {
        "colab": {
          "base_uri": "https://localhost:8080/"
        },
        "id": "aEtnBzsacsoM",
        "outputId": "593aec52-e524-4915-bd8a-40be0bb9e899"
      },
      "execution_count": 38,
      "outputs": [
        {
          "output_type": "stream",
          "name": "stdout",
          "text": [
            "Epoch 1/20\n",
            "30/30 [==============================] - 2s 52ms/step - loss: 0.1561 - accuracy: 0.8019 - val_loss: 0.1167 - val_accuracy: 0.8589\n",
            "Epoch 2/20\n",
            "30/30 [==============================] - 1s 37ms/step - loss: 0.0820 - accuracy: 0.9071 - val_loss: 0.0865 - val_accuracy: 0.8916\n",
            "Epoch 3/20\n",
            "30/30 [==============================] - 1s 37ms/step - loss: 0.0561 - accuracy: 0.9352 - val_loss: 0.0841 - val_accuracy: 0.8864\n",
            "Epoch 4/20\n",
            "30/30 [==============================] - 1s 36ms/step - loss: 0.0409 - accuracy: 0.9527 - val_loss: 0.0834 - val_accuracy: 0.8850\n",
            "Epoch 5/20\n",
            "30/30 [==============================] - 1s 37ms/step - loss: 0.0327 - accuracy: 0.9634 - val_loss: 0.0860 - val_accuracy: 0.8860\n",
            "Epoch 6/20\n",
            "30/30 [==============================] - 1s 36ms/step - loss: 0.0253 - accuracy: 0.9718 - val_loss: 0.0975 - val_accuracy: 0.8729\n",
            "Epoch 7/20\n",
            "30/30 [==============================] - 1s 37ms/step - loss: 0.0200 - accuracy: 0.9777 - val_loss: 0.0951 - val_accuracy: 0.8770\n",
            "Epoch 8/20\n",
            "30/30 [==============================] - 1s 36ms/step - loss: 0.0159 - accuracy: 0.9837 - val_loss: 0.0993 - val_accuracy: 0.8769\n",
            "Epoch 9/20\n",
            "30/30 [==============================] - 1s 37ms/step - loss: 0.0152 - accuracy: 0.9824 - val_loss: 0.1011 - val_accuracy: 0.8755\n",
            "Epoch 10/20\n",
            "30/30 [==============================] - 1s 36ms/step - loss: 0.0120 - accuracy: 0.9869 - val_loss: 0.1038 - val_accuracy: 0.8740\n",
            "Epoch 11/20\n",
            "30/30 [==============================] - 1s 36ms/step - loss: 0.0070 - accuracy: 0.9936 - val_loss: 0.1077 - val_accuracy: 0.8718\n",
            "Epoch 12/20\n",
            "30/30 [==============================] - 1s 37ms/step - loss: 0.0099 - accuracy: 0.9889 - val_loss: 0.1094 - val_accuracy: 0.8724\n",
            "Epoch 13/20\n",
            "30/30 [==============================] - 1s 37ms/step - loss: 0.0056 - accuracy: 0.9947 - val_loss: 0.1266 - val_accuracy: 0.8540\n",
            "Epoch 14/20\n",
            "30/30 [==============================] - 1s 40ms/step - loss: 0.0098 - accuracy: 0.9888 - val_loss: 0.1126 - val_accuracy: 0.8703\n",
            "Epoch 15/20\n",
            "30/30 [==============================] - 1s 36ms/step - loss: 0.0061 - accuracy: 0.9936 - val_loss: 0.1249 - val_accuracy: 0.8574\n",
            "Epoch 16/20\n",
            "30/30 [==============================] - 1s 37ms/step - loss: 0.0047 - accuracy: 0.9954 - val_loss: 0.1186 - val_accuracy: 0.8648\n",
            "Epoch 17/20\n",
            "30/30 [==============================] - 1s 36ms/step - loss: 0.0041 - accuracy: 0.9959 - val_loss: 0.1203 - val_accuracy: 0.8641\n",
            "Epoch 18/20\n",
            "30/30 [==============================] - 1s 37ms/step - loss: 0.0078 - accuracy: 0.9909 - val_loss: 0.1212 - val_accuracy: 0.8639\n",
            "Epoch 19/20\n",
            "30/30 [==============================] - 1s 37ms/step - loss: 0.0037 - accuracy: 0.9963 - val_loss: 0.1217 - val_accuracy: 0.8636\n",
            "Epoch 20/20\n",
            "30/30 [==============================] - 1s 36ms/step - loss: 0.0081 - accuracy: 0.9909 - val_loss: 0.1220 - val_accuracy: 0.8637\n"
          ]
        }
      ]
    },
    {
      "cell_type": "code",
      "source": [
        "history_dict_4 = history_4.history\n",
        "loss_values = history_dict_4[\"loss\"]\n",
        "val_loss_values = history_dict_4[\"val_loss\"]\n",
        "epochs = range(1, len(loss_values) + 1)\n",
        "plt.plot(epochs, loss_values, \"bo\", label=\"Training loss\")\n",
        "plt.plot(epochs, val_loss_values, \"b\", label=\"Validation loss\")\n",
        "plt.title(\"Training and validation loss\")\n",
        "plt.xlabel(\"Epochs\")\n",
        "plt.ylabel(\"Loss\")\n",
        "plt.legend()\n",
        "plt.show()"
      ],
      "metadata": {
        "colab": {
          "base_uri": "https://localhost:8080/",
          "height": 295
        },
        "id": "1GMGHLplc5iE",
        "outputId": "1b9fc53e-2ab8-4a0f-ac4a-f2230ab29989"
      },
      "execution_count": 39,
      "outputs": [
        {
          "output_type": "display_data",
          "data": {
            "text/plain": [
              "<Figure size 432x288 with 1 Axes>"
            ],
            "image/png": "[encoded data removed]"
          },
          "metadata": {
            "needs_background": "light"
          }
        }
      ]
    },
    {
      "cell_type": "code",
      "source": [
        "# Plotting the training and validation accuracy\n",
        "plt.clf()\n",
        "acc = history_dict_4[\"accuracy\"]\n",
        "val_acc = history_dict_4[\"val_accuracy\"]\n",
        "plt.plot(epochs, acc, \"bo\", label=\"Training acc\")\n",
        "plt.plot(epochs, val_acc, \"b\", label=\"Validation acc\")\n",
        "plt.title(\"Training and validation accuracy\")\n",
        "plt.xlabel(\"Epochs\")\n",
        "plt.ylabel(\"Accuracy\")\n",
        "plt.legend()\n",
        "plt.show()"
      ],
      "metadata": {
        "colab": {
          "base_uri": "https://localhost:8080/",
          "height": 295
        },
        "id": "1lme99ExdDwB",
        "outputId": "4e7a0f42-a03d-459c-dfc2-54e572d8b0f3"
      },
      "execution_count": 40,
      "outputs": [
        {
          "output_type": "display_data",
          "data": {
            "text/plain": [
              "<Figure size 432x288 with 1 Axes>"
            ],
            "image/png": "[encoded data removed]"
          },
          "metadata": {
            "needs_background": "light"
          }
        }
      ]
    },
    {
      "cell_type": "markdown",
      "source": [
        "**5.Use any technique we studied in class, and these include regularization, dropout, etc., to get your model to perform better on validation.**"
      ],
      "metadata": {
        "id": "sIWlsuCidMlG"
      }
    },
    {
      "cell_type": "code",
      "source": [
        "model_5 = keras.Sequential([\n",
        "    #layers.Dropout(0.2),                        \n",
        "    layers.Dense(20, activation=\"relu\"),\n",
        "    layers.Dropout(0.2),\n",
        "    layers.Dense(15, activation=\"relu\"),\n",
        "    layers.Dense(1, activation=\"sigmoid\")\n",
        "])"
      ],
      "metadata": {
        "id": "i06oHo8IdSRp"
      },
      "execution_count": 41,
      "outputs": []
    },
    {
      "cell_type": "code",
      "source": [
        "# Compiling the model\n",
        "\n",
        "model_5.compile(optimizer=\"rmsprop\",\n",
        "              loss=\"binary_crossentropy\",\n",
        "              metrics=[\"accuracy\"])"
      ],
      "metadata": {
        "id": "BXax6HGRdXH2"
      },
      "execution_count": 42,
      "outputs": []
    },
    {
      "cell_type": "code",
      "source": [
        "history_5 = model_5.fit(partial_x_train,\n",
        "                    partial_y_train,\n",
        "                    epochs=20,\n",
        "                    batch_size=512,\n",
        "                    validation_data=(x_val, y_val))"
      ],
      "metadata": {
        "colab": {
          "base_uri": "https://localhost:8080/"
        },
        "id": "0i3UmzkrdbXt",
        "outputId": "dfa8ef42-16c8-474d-e6f5-909679c1fe40"
      },
      "execution_count": 43,
      "outputs": [
        {
          "output_type": "stream",
          "name": "stdout",
          "text": [
            "Epoch 1/20\n",
            "30/30 [==============================] - 2s 50ms/step - loss: 0.5340 - accuracy: 0.7641 - val_loss: 0.3796 - val_accuracy: 0.8730\n",
            "Epoch 2/20\n",
            "30/30 [==============================] - 2s 54ms/step - loss: 0.3327 - accuracy: 0.8821 - val_loss: 0.3013 - val_accuracy: 0.8860\n",
            "Epoch 3/20\n",
            "30/30 [==============================] - 1s 40ms/step - loss: 0.2482 - accuracy: 0.9120 - val_loss: 0.2749 - val_accuracy: 0.8908\n",
            "Epoch 4/20\n",
            "30/30 [==============================] - 1s 40ms/step - loss: 0.1953 - accuracy: 0.9322 - val_loss: 0.2863 - val_accuracy: 0.8845\n",
            "Epoch 5/20\n",
            "30/30 [==============================] - 1s 39ms/step - loss: 0.1610 - accuracy: 0.9461 - val_loss: 0.3384 - val_accuracy: 0.8674\n",
            "Epoch 6/20\n",
            "30/30 [==============================] - 1s 39ms/step - loss: 0.1365 - accuracy: 0.9532 - val_loss: 0.2910 - val_accuracy: 0.8861\n",
            "Epoch 7/20\n",
            "30/30 [==============================] - 1s 40ms/step - loss: 0.1085 - accuracy: 0.9641 - val_loss: 0.3233 - val_accuracy: 0.8810\n",
            "Epoch 8/20\n",
            "30/30 [==============================] - 1s 40ms/step - loss: 0.0921 - accuracy: 0.9709 - val_loss: 0.3328 - val_accuracy: 0.8803\n",
            "Epoch 9/20\n",
            "30/30 [==============================] - 1s 40ms/step - loss: 0.0746 - accuracy: 0.9767 - val_loss: 0.3545 - val_accuracy: 0.8837\n",
            "Epoch 10/20\n",
            "30/30 [==============================] - 1s 40ms/step - loss: 0.0578 - accuracy: 0.9832 - val_loss: 0.3774 - val_accuracy: 0.8820\n",
            "Epoch 11/20\n",
            "30/30 [==============================] - 1s 40ms/step - loss: 0.0471 - accuracy: 0.9869 - val_loss: 0.4074 - val_accuracy: 0.8803\n",
            "Epoch 12/20\n",
            "30/30 [==============================] - 1s 40ms/step - loss: 0.0379 - accuracy: 0.9896 - val_loss: 0.4525 - val_accuracy: 0.8770\n",
            "Epoch 13/20\n",
            "30/30 [==============================] - 1s 40ms/step - loss: 0.0293 - accuracy: 0.9929 - val_loss: 0.4825 - val_accuracy: 0.8744\n",
            "Epoch 14/20\n",
            "30/30 [==============================] - 1s 40ms/step - loss: 0.0279 - accuracy: 0.9923 - val_loss: 0.4985 - val_accuracy: 0.8772\n",
            "Epoch 15/20\n",
            "30/30 [==============================] - 1s 44ms/step - loss: 0.0158 - accuracy: 0.9972 - val_loss: 0.5399 - val_accuracy: 0.8767\n",
            "Epoch 16/20\n",
            "30/30 [==============================] - 1s 48ms/step - loss: 0.0148 - accuracy: 0.9970 - val_loss: 0.6230 - val_accuracy: 0.8655\n",
            "Epoch 17/20\n",
            "30/30 [==============================] - 1s 39ms/step - loss: 0.0122 - accuracy: 0.9981 - val_loss: 0.6110 - val_accuracy: 0.8738\n",
            "Epoch 18/20\n",
            "30/30 [==============================] - 1s 39ms/step - loss: 0.0079 - accuracy: 0.9991 - val_loss: 0.6727 - val_accuracy: 0.8742\n",
            "Epoch 19/20\n",
            "30/30 [==============================] - 1s 39ms/step - loss: 0.0077 - accuracy: 0.9986 - val_loss: 0.7067 - val_accuracy: 0.8748\n",
            "Epoch 20/20\n",
            "30/30 [==============================] - 1s 39ms/step - loss: 0.0065 - accuracy: 0.9988 - val_loss: 0.7323 - val_accuracy: 0.8723\n"
          ]
        }
      ]
    },
    {
      "cell_type": "code",
      "source": [
        "history_dict_5 = history_5.history\n",
        "loss_values = history_dict_5[\"loss\"]\n",
        "val_loss_values = history_dict_5[\"val_loss\"]\n",
        "epochs = range(1, len(loss_values) + 1)\n",
        "plt.plot(epochs, loss_values, \"bo\", label=\"Training loss\")\n",
        "plt.plot(epochs, val_loss_values, \"b\", label=\"Validation loss\")\n",
        "plt.title(\"Training and validation loss\")\n",
        "plt.xlabel(\"Epochs\")\n",
        "plt.ylabel(\"Loss\")\n",
        "plt.legend()\n",
        "plt.show()"
      ],
      "metadata": {
        "colab": {
          "base_uri": "https://localhost:8080/",
          "height": 295
        },
        "id": "8CimW0zadi-r",
        "outputId": "aff5e5c4-2ae9-4687-9b95-9a8196fe804b"
      },
      "execution_count": 44,
      "outputs": [
        {
          "output_type": "display_data",
          "data": {
            "text/plain": [
              "<Figure size 432x288 with 1 Axes>"
            ],
            "image/png": "[encoded data removed]"
          },
          "metadata": {
            "needs_background": "light"
          }
        }
      ]
    },
    {
      "cell_type": "code",
      "source": [
        "# Plotting the training and validation accuracy\n",
        "plt.clf()\n",
        "acc = history_dict_5[\"accuracy\"]\n",
        "val_acc = history_dict_5[\"val_accuracy\"]\n",
        "plt.plot(epochs, acc, \"bo\", label=\"Training acc\")\n",
        "plt.plot(epochs, val_acc, \"b\", label=\"Validation acc\")\n",
        "plt.title(\"Training and validation accuracy\")\n",
        "plt.xlabel(\"Epochs\")\n",
        "plt.ylabel(\"Accuracy\")\n",
        "plt.legend()\n",
        "plt.show()"
      ],
      "metadata": {
        "colab": {
          "base_uri": "https://localhost:8080/",
          "height": 295
        },
        "id": "tCa1LgT4dqkC",
        "outputId": "b72f3bfa-7678-43cb-d903-d6916db46d5d"
      },
      "execution_count": 45,
      "outputs": [
        {
          "output_type": "display_data",
          "data": {
            "text/plain": [
              "<Figure size 432x288 with 1 Axes>"
            ],
            "image/png": "[encoded data removed]"
          },
          "metadata": {
            "needs_background": "light"
          }
        }
      ]
    }
  ]
}