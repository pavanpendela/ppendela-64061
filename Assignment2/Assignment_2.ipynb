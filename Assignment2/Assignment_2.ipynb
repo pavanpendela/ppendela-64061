{
  "cells": [
    {
      "cell_type": "markdown",
      "metadata": {
        "id": "zWjSq2OB6hiT"
      },
      "source": [
        "## Assignment 2 - Convolution networks to image data \n",
        "**In this assignment, you will examine the relationship between training samples and the choice of training your model from scratch, versus using a pretrained convnet**.\n",
        "\n",
        "# **Downloading the data**"
      ]
    },
    {
      "cell_type": "code",
      "execution_count": 1,
      "metadata": {
        "id": "XkCDwax00SEy",
        "colab": {
          "base_uri": "https://localhost:8080/",
          "height": 108
        },
        "outputId": "2fd3248e-3380-4007-8624-aee092a30f0b"
      },
      "outputs": [
        {
          "output_type": "display_data",
          "data": {
            "text/plain": [
              "<IPython.core.display.HTML object>"
            ],
            "text/html": [
              "\n",
              "     <input type=\"file\" id=\"files-27986150-443c-417b-8e42-587489ed4af3\" name=\"files[]\" multiple disabled\n",
              "        style=\"border:none\" />\n",
              "     <output id=\"result-27986150-443c-417b-8e42-587489ed4af3\">\n",
              "      Upload widget is only available when the cell has been executed in the\n",
              "      current browser session. Please rerun this cell to enable.\n",
              "      </output>\n",
              "      <script>// Copyright 2017 Google LLC\n",
              "//\n",
              "// Licensed under the Apache License, Version 2.0 (the \"License\");\n",
              "// you may not use this file except in compliance with the License.\n",
              "// You may obtain a copy of the License at\n",
              "//\n",
              "//      http://www.apache.org/licenses/LICENSE-2.0\n",
              "//\n",
              "// Unless required by applicable law or agreed to in writing, software\n",
              "// distributed under the License is distributed on an \"AS IS\" BASIS,\n",
              "// WITHOUT WARRANTIES OR CONDITIONS OF ANY KIND, either express or implied.\n",
              "// See the License for the specific language governing permissions and\n",
              "// limitations under the License.\n",
              "\n",
              "/**\n",
              " * @fileoverview Helpers for google.colab Python module.\n",
              " */\n",
              "(function(scope) {\n",
              "function span(text, styleAttributes = {}) {\n",
              "  const element = document.createElement('span');\n",
              "  element.textContent = text;\n",
              "  for (const key of Object.keys(styleAttributes)) {\n",
              "    element.style[key] = styleAttributes[key];\n",
              "  }\n",
              "  return element;\n",
              "}\n",
              "\n",
              "// Max number of bytes which will be uploaded at a time.\n",
              "const MAX_PAYLOAD_SIZE = 100 * 1024;\n",
              "\n",
              "function _uploadFiles(inputId, outputId) {\n",
              "  const steps = uploadFilesStep(inputId, outputId);\n",
              "  const outputElement = document.getElementById(outputId);\n",
              "  // Cache steps on the outputElement to make it available for the next call\n",
              "  // to uploadFilesContinue from Python.\n",
              "  outputElement.steps = steps;\n",
              "\n",
              "  return _uploadFilesContinue(outputId);\n",
              "}\n",
              "\n",
              "// This is roughly an async generator (not supported in the browser yet),\n",
              "// where there are multiple asynchronous steps and the Python side is going\n",
              "// to poll for completion of each step.\n",
              "// This uses a Promise to block the python side on completion of each step,\n",
              "// then passes the result of the previous step as the input to the next step.\n",
              "function _uploadFilesContinue(outputId) {\n",
              "  const outputElement = document.getElementById(outputId);\n",
              "  const steps = outputElement.steps;\n",
              "\n",
              "  const next = steps.next(outputElement.lastPromiseValue);\n",
              "  return Promise.resolve(next.value.promise).then((value) => {\n",
              "    // Cache the last promise value to make it available to the next\n",
              "    // step of the generator.\n",
              "    outputElement.lastPromiseValue = value;\n",
              "    return next.value.response;\n",
              "  });\n",
              "}\n",
              "\n",
              "/**\n",
              " * Generator function which is called between each async step of the upload\n",
              " * process.\n",
              " * @param {string} inputId Element ID of the input file picker element.\n",
              " * @param {string} outputId Element ID of the output display.\n",
              " * @return {!Iterable<!Object>} Iterable of next steps.\n",
              " */\n",
              "function* uploadFilesStep(inputId, outputId) {\n",
              "  const inputElement = document.getElementById(inputId);\n",
              "  inputElement.disabled = false;\n",
              "\n",
              "  const outputElement = document.getElementById(outputId);\n",
              "  outputElement.innerHTML = '';\n",
              "\n",
              "  const pickedPromise = new Promise((resolve) => {\n",
              "    inputElement.addEventListener('change', (e) => {\n",
              "      resolve(e.target.files);\n",
              "    });\n",
              "  });\n",
              "\n",
              "  const cancel = document.createElement('button');\n",
              "  inputElement.parentElement.appendChild(cancel);\n",
              "  cancel.textContent = 'Cancel upload';\n",
              "  const cancelPromise = new Promise((resolve) => {\n",
              "    cancel.onclick = () => {\n",
              "      resolve(null);\n",
              "    };\n",
              "  });\n",
              "\n",
              "  // Wait for the user to pick the files.\n",
              "  const files = yield {\n",
              "    promise: Promise.race([pickedPromise, cancelPromise]),\n",
              "    response: {\n",
              "      action: 'starting',\n",
              "    }\n",
              "  };\n",
              "\n",
              "  cancel.remove();\n",
              "\n",
              "  // Disable the input element since further picks are not allowed.\n",
              "  inputElement.disabled = true;\n",
              "\n",
              "  if (!files) {\n",
              "    return {\n",
              "      response: {\n",
              "        action: 'complete',\n",
              "      }\n",
              "    };\n",
              "  }\n",
              "\n",
              "  for (const file of files) {\n",
              "    const li = document.createElement('li');\n",
              "    li.append(span(file.name, {fontWeight: 'bold'}));\n",
              "    li.append(span(\n",
              "        `(${file.type || 'n/a'}) - ${file.size} bytes, ` +\n",
              "        `last modified: ${\n",
              "            file.lastModifiedDate ? file.lastModifiedDate.toLocaleDateString() :\n",
              "                                    'n/a'} - `));\n",
              "    const percent = span('0% done');\n",
              "    li.appendChild(percent);\n",
              "\n",
              "    outputElement.appendChild(li);\n",
              "\n",
              "    const fileDataPromise = new Promise((resolve) => {\n",
              "      const reader = new FileReader();\n",
              "      reader.onload = (e) => {\n",
              "        resolve(e.target.result);\n",
              "      };\n",
              "      reader.readAsArrayBuffer(file);\n",
              "    });\n",
              "    // Wait for the data to be ready.\n",
              "    let fileData = yield {\n",
              "      promise: fileDataPromise,\n",
              "      response: {\n",
              "        action: 'continue',\n",
              "      }\n",
              "    };\n",
              "\n",
              "    // Use a chunked sending to avoid message size limits. See b/62115660.\n",
              "    let position = 0;\n",
              "    do {\n",
              "      const length = Math.min(fileData.byteLength - position, MAX_PAYLOAD_SIZE);\n",
              "      const chunk = new Uint8Array(fileData, position, length);\n",
              "      position += length;\n",
              "\n",
              "      const base64 = btoa(String.fromCharCode.apply(null, chunk));\n",
              "      yield {\n",
              "        response: {\n",
              "          action: 'append',\n",
              "          file: file.name,\n",
              "          data: base64,\n",
              "        },\n",
              "      };\n",
              "\n",
              "      let percentDone = fileData.byteLength === 0 ?\n",
              "          100 :\n",
              "          Math.round((position / fileData.byteLength) * 100);\n",
              "      percent.textContent = `${percentDone}% done`;\n",
              "\n",
              "    } while (position < fileData.byteLength);\n",
              "  }\n",
              "\n",
              "  // All done.\n",
              "  yield {\n",
              "    response: {\n",
              "      action: 'complete',\n",
              "    }\n",
              "  };\n",
              "}\n",
              "\n",
              "scope.google = scope.google || {};\n",
              "scope.google.colab = scope.google.colab || {};\n",
              "scope.google.colab._files = {\n",
              "  _uploadFiles,\n",
              "  _uploadFilesContinue,\n",
              "};\n",
              "})(self);\n",
              "</script> "
            ]
          },
          "metadata": {}
        },
        {
          "output_type": "stream",
          "name": "stdout",
          "text": [
            "Saving kaggle.json to kaggle.json\n"
          ]
        },
        {
          "output_type": "execute_result",
          "data": {
            "text/plain": [
              "{'kaggle.json': b'{\"username\":\"pavankumarpendela\",\"key\":\"b273a0fb3739240e81238fb57d004069\"}'}"
            ]
          },
          "metadata": {},
          "execution_count": 1
        }
      ],
      "source": [
        "from google.colab import files\n",
        "files.upload()"
      ]
    },
    {
      "cell_type": "code",
      "execution_count": 2,
      "metadata": {
        "id": "zWPJRGmk0h0u"
      },
      "outputs": [],
      "source": [
        "!mkdir ~/.kaggle\n",
        "!cp kaggle.json ~/.kaggle/\n",
        "!chmod 600 ~/.kaggle/kaggle.json"
      ]
    },
    {
      "cell_type": "code",
      "execution_count": 3,
      "metadata": {
        "id": "ja9IkXHj0jN7",
        "colab": {
          "base_uri": "https://localhost:8080/"
        },
        "outputId": "f740d173-ff11-48ca-e0fa-0538d8f291e8"
      },
      "outputs": [
        {
          "output_type": "stream",
          "name": "stdout",
          "text": [
            "Downloading dogs-vs-cats.zip to /content\n",
            "100% 812M/812M [00:03<00:00, 205MB/s]\n",
            "100% 812M/812M [00:03<00:00, 225MB/s]\n"
          ]
        }
      ],
      "source": [
        "!kaggle competitions download -c dogs-vs-cats"
      ]
    },
    {
      "cell_type": "code",
      "execution_count": 4,
      "metadata": {
        "id": "Eqo-msL00koU"
      },
      "outputs": [],
      "source": [
        "!unzip -qq dogs-vs-cats.zip"
      ]
    },
    {
      "cell_type": "code",
      "execution_count": 5,
      "metadata": {
        "id": "MyxN3X6-0oqj"
      },
      "outputs": [],
      "source": [
        "!unzip -qq test1.zip"
      ]
    },
    {
      "cell_type": "code",
      "execution_count": 6,
      "metadata": {
        "id": "4D84yX160pcc"
      },
      "outputs": [],
      "source": [
        "!unzip -qq train.zip"
      ]
    },
    {
      "cell_type": "markdown",
      "metadata": {
        "id": "AqavPSez0rXL"
      },
      "source": [
        "## **# Question1.**\n",
        "## Consider the Cats & Dogs example. Start initially with a training sample of 1000, a validation sample of 500, and a test sample of 500 (like in the text). Use any technique to reduce overfitting and improve performance in developing a network that you train from scratch. What performance did you achieve?\n",
        "# Copying images to training, validation, and test directories."
      ]
    },
    {
      "cell_type": "code",
      "execution_count": 7,
      "metadata": {
        "id": "DIIcfT0Y0-cF"
      },
      "outputs": [],
      "source": [
        "import os, shutil, pathlib\n",
        "\n",
        "original_dir = pathlib.Path(\"train\")\n",
        "new_base_dir = pathlib.Path(\"cats_vs_dogs_small\")\n",
        "\n",
        "def make_subset(subset_name, start_index, end_index):\n",
        "    for category in (\"cat\", \"dog\"):\n",
        "        dir = new_base_dir / subset_name / category\n",
        "        os.makedirs(dir)\n",
        "        fnames = [f\"{category}.{i}.jpg\" for i in range(start_index, end_index)]\n",
        "        for fname in fnames:\n",
        "            shutil.copyfile(src=original_dir / fname,\n",
        "                            dst=dir / fname)\n",
        "#Initially taking 1000 samples for training set\n",
        "make_subset(\"train\", start_index=0, end_index=1000)\n",
        "#500 samples for validation set\n",
        "make_subset(\"validation\", start_index=1000, end_index=1500)\n",
        "#500 for test set\n",
        "make_subset(\"test\", start_index=1500, end_index=2000)"
      ]
    },
    {
      "cell_type": "markdown",
      "metadata": {
        "id": "HPROI0Ii1CWg"
      },
      "source": [
        "**Data preprocessing**\n",
        "\n",
        "Using image_dataset_from_directory to read images"
      ]
    },
    {
      "cell_type": "code",
      "execution_count": 8,
      "metadata": {
        "id": "Wl7Empg-1Hgd",
        "colab": {
          "base_uri": "https://localhost:8080/"
        },
        "outputId": "b8b13163-80d7-4a02-dfb1-a7e246f7622c"
      },
      "outputs": [
        {
          "output_type": "stream",
          "name": "stdout",
          "text": [
            "Found 2000 files belonging to 2 classes.\n",
            "Found 1000 files belonging to 2 classes.\n",
            "Found 1000 files belonging to 2 classes.\n"
          ]
        }
      ],
      "source": [
        "from tensorflow.keras.utils import image_dataset_from_directory\n",
        "\n",
        "train_dataset = image_dataset_from_directory(\n",
        "    new_base_dir / \"train\",\n",
        "    image_size=(180, 180),\n",
        "    batch_size=32)\n",
        "validation_dataset = image_dataset_from_directory(\n",
        "    new_base_dir / \"validation\",\n",
        "    image_size=(180, 180),\n",
        "    batch_size=32)\n",
        "test_dataset = image_dataset_from_directory(\n",
        "    new_base_dir / \"test\",\n",
        "    image_size=(180, 180),\n",
        "    batch_size=32)"
      ]
    },
    {
      "cell_type": "code",
      "execution_count": 9,
      "metadata": {
        "id": "-aMOGKc81N_v"
      },
      "outputs": [],
      "source": [
        "import numpy as np\n",
        "import tensorflow as tf\n",
        "random_numbers = np.random.normal(size=(1000, 16))\n",
        "dataset = tf.data.Dataset.from_tensor_slices(random_numbers)"
      ]
    },
    {
      "cell_type": "code",
      "execution_count": 10,
      "metadata": {
        "id": "rSmqDWJp1Q6J",
        "colab": {
          "base_uri": "https://localhost:8080/"
        },
        "outputId": "6c28c23d-d85e-430d-99cb-ededd26314e5"
      },
      "outputs": [
        {
          "output_type": "stream",
          "name": "stdout",
          "text": [
            "(16,)\n",
            "(16,)\n",
            "(16,)\n"
          ]
        }
      ],
      "source": [
        "for i, element in enumerate(dataset):\n",
        "    print(element.shape)\n",
        "    if i >= 2:\n",
        "        break"
      ]
    },
    {
      "cell_type": "code",
      "execution_count": 11,
      "metadata": {
        "id": "51ariaN41Rv6",
        "colab": {
          "base_uri": "https://localhost:8080/"
        },
        "outputId": "d588e3ce-449c-49a9-9365-d3dd629805a3"
      },
      "outputs": [
        {
          "output_type": "stream",
          "name": "stdout",
          "text": [
            "(32, 16)\n",
            "(32, 16)\n",
            "(32, 16)\n"
          ]
        }
      ],
      "source": [
        "batched_dataset = dataset.batch(32)\n",
        "for i, element in enumerate(batched_dataset):\n",
        "    print(element.shape)\n",
        "    if i >= 2:\n",
        "        break"
      ]
    },
    {
      "cell_type": "code",
      "execution_count": 12,
      "metadata": {
        "id": "TMaQmI-x1UMF",
        "colab": {
          "base_uri": "https://localhost:8080/"
        },
        "outputId": "2aed8e21-318e-41b0-e746-1a4d70157c47"
      },
      "outputs": [
        {
          "output_type": "stream",
          "name": "stdout",
          "text": [
            "(4, 4)\n",
            "(4, 4)\n",
            "(4, 4)\n"
          ]
        }
      ],
      "source": [
        "reshaped_dataset = dataset.map(lambda x: tf.reshape(x, (4, 4)))\n",
        "for i, element in enumerate(reshaped_dataset):\n",
        "    print(element.shape)\n",
        "    if i >= 2:\n",
        "        break"
      ]
    },
    {
      "cell_type": "code",
      "execution_count": 13,
      "metadata": {
        "id": "UuaKub3c1Wxe",
        "colab": {
          "base_uri": "https://localhost:8080/"
        },
        "outputId": "8d4ec9b5-3a64-4ff7-a385-fdf19ef00357"
      },
      "outputs": [
        {
          "output_type": "stream",
          "name": "stdout",
          "text": [
            "data batch shape: (32, 180, 180, 3)\n",
            "labels batch shape: (32,)\n"
          ]
        }
      ],
      "source": [
        "for data_batch, labels_batch in train_dataset:\n",
        "    print(\"data batch shape:\", data_batch.shape)\n",
        "    print(\"labels batch shape:\", labels_batch.shape)\n",
        "    break"
      ]
    },
    {
      "cell_type": "markdown",
      "metadata": {
        "id": "aZMnWP3X1Z1m"
      },
      "source": [
        "## **Building the model**"
      ]
    },
    {
      "cell_type": "code",
      "execution_count": 14,
      "metadata": {
        "id": "swvtQ14k1fOD"
      },
      "outputs": [],
      "source": [
        "from tensorflow import keras\n",
        "from tensorflow.keras import layers\n",
        "\n",
        "inputs = keras.Input(shape=(180, 180, 3))\n",
        "x = layers.Rescaling(1./255)(inputs)\n",
        "x = layers.Conv2D(filters=32, kernel_size=3, activation=\"relu\")(x)\n",
        "x = layers.MaxPooling2D(pool_size=2)(x)\n",
        "x = layers.Conv2D(filters=64, kernel_size=3, activation=\"relu\")(x)\n",
        "x = layers.MaxPooling2D(pool_size=2)(x)\n",
        "x = layers.Conv2D(filters=128, kernel_size=3, activation=\"relu\")(x)\n",
        "x = layers.MaxPooling2D(pool_size=2)(x)\n",
        "x = layers.Conv2D(filters=256, kernel_size=3, activation=\"relu\")(x)\n",
        "x = layers.MaxPooling2D(pool_size=2)(x)\n",
        "x = layers.Conv2D(filters=256, kernel_size=3, activation=\"relu\")(x)\n",
        "x = layers.Flatten()(x)\n",
        "x = layers.Dropout(0.5)(x)\n",
        "outputs = layers.Dense(1, activation=\"sigmoid\")(x)\n",
        "model = keras.Model(inputs=inputs, outputs=outputs)"
      ]
    },
    {
      "cell_type": "code",
      "execution_count": 15,
      "metadata": {
        "id": "TVu9lLEi1iBf"
      },
      "outputs": [],
      "source": [
        "model.compile(loss=\"binary_crossentropy\",\n",
        "              optimizer=\"rmsprop\",\n",
        "              metrics=[\"accuracy\"])"
      ]
    },
    {
      "cell_type": "code",
      "execution_count": 16,
      "metadata": {
        "id": "gvkWuKLW1loB",
        "colab": {
          "base_uri": "https://localhost:8080/"
        },
        "outputId": "57ab92d7-8f9a-494b-aed4-14cb2e27d734"
      },
      "outputs": [
        {
          "output_type": "stream",
          "name": "stdout",
          "text": [
            "Model: \"model\"\n",
            "_________________________________________________________________\n",
            " Layer (type)                Output Shape              Param #   \n",
            "=================================================================\n",
            " input_1 (InputLayer)        [(None, 180, 180, 3)]     0         \n",
            "                                                                 \n",
            " rescaling (Rescaling)       (None, 180, 180, 3)       0         \n",
            "                                                                 \n",
            " conv2d (Conv2D)             (None, 178, 178, 32)      896       \n",
            "                                                                 \n",
            " max_pooling2d (MaxPooling2D  (None, 89, 89, 32)       0         \n",
            " )                                                               \n",
            "                                                                 \n",
            " conv2d_1 (Conv2D)           (None, 87, 87, 64)        18496     \n",
            "                                                                 \n",
            " max_pooling2d_1 (MaxPooling  (None, 43, 43, 64)       0         \n",
            " 2D)                                                             \n",
            "                                                                 \n",
            " conv2d_2 (Conv2D)           (None, 41, 41, 128)       73856     \n",
            "                                                                 \n",
            " max_pooling2d_2 (MaxPooling  (None, 20, 20, 128)      0         \n",
            " 2D)                                                             \n",
            "                                                                 \n",
            " conv2d_3 (Conv2D)           (None, 18, 18, 256)       295168    \n",
            "                                                                 \n",
            " max_pooling2d_3 (MaxPooling  (None, 9, 9, 256)        0         \n",
            " 2D)                                                             \n",
            "                                                                 \n",
            " conv2d_4 (Conv2D)           (None, 7, 7, 256)         590080    \n",
            "                                                                 \n",
            " flatten (Flatten)           (None, 12544)             0         \n",
            "                                                                 \n",
            " dropout (Dropout)           (None, 12544)             0         \n",
            "                                                                 \n",
            " dense (Dense)               (None, 1)                 12545     \n",
            "                                                                 \n",
            "=================================================================\n",
            "Total params: 991,041\n",
            "Trainable params: 991,041\n",
            "Non-trainable params: 0\n",
            "_________________________________________________________________\n"
          ]
        }
      ],
      "source": [
        "model.summary()"
      ]
    },
    {
      "cell_type": "markdown",
      "metadata": {
        "id": "P_HSGMi31pDi"
      },
      "source": [
        "**Fitting the model using a Dataset**"
      ]
    },
    {
      "cell_type": "code",
      "execution_count": 17,
      "metadata": {
        "id": "AOQBRhQu1stm",
        "colab": {
          "base_uri": "https://localhost:8080/"
        },
        "outputId": "289b0977-78b9-44ea-d555-048b636384a7"
      },
      "outputs": [
        {
          "output_type": "stream",
          "name": "stdout",
          "text": [
            "Epoch 1/30\n",
            "63/63 [==============================] - 166s 3s/step - loss: 0.7239 - accuracy: 0.5160 - val_loss: 0.6843 - val_accuracy: 0.6090\n",
            "Epoch 2/30\n",
            "63/63 [==============================] - 164s 3s/step - loss: 0.7076 - accuracy: 0.5805 - val_loss: 0.6954 - val_accuracy: 0.5310\n",
            "Epoch 3/30\n",
            "63/63 [==============================] - 165s 3s/step - loss: 0.6602 - accuracy: 0.6190 - val_loss: 0.6158 - val_accuracy: 0.6900\n",
            "Epoch 4/30\n",
            "63/63 [==============================] - 164s 3s/step - loss: 0.6204 - accuracy: 0.6520 - val_loss: 0.6173 - val_accuracy: 0.6450\n",
            "Epoch 5/30\n",
            "63/63 [==============================] - 165s 3s/step - loss: 0.6113 - accuracy: 0.6860 - val_loss: 0.6110 - val_accuracy: 0.6520\n",
            "Epoch 6/30\n",
            "63/63 [==============================] - 162s 3s/step - loss: 0.5699 - accuracy: 0.7120 - val_loss: 0.5746 - val_accuracy: 0.7060\n",
            "Epoch 7/30\n",
            "63/63 [==============================] - 160s 3s/step - loss: 0.5498 - accuracy: 0.7475 - val_loss: 0.5978 - val_accuracy: 0.6780\n",
            "Epoch 8/30\n",
            "63/63 [==============================] - 159s 3s/step - loss: 0.5063 - accuracy: 0.7600 - val_loss: 0.6093 - val_accuracy: 0.6750\n",
            "Epoch 9/30\n",
            "63/63 [==============================] - 171s 3s/step - loss: 0.4744 - accuracy: 0.7745 - val_loss: 0.5588 - val_accuracy: 0.7360\n",
            "Epoch 10/30\n",
            "63/63 [==============================] - 161s 3s/step - loss: 0.4301 - accuracy: 0.7990 - val_loss: 0.6175 - val_accuracy: 0.7110\n",
            "Epoch 11/30\n",
            "63/63 [==============================] - 158s 3s/step - loss: 0.4043 - accuracy: 0.8285 - val_loss: 0.6315 - val_accuracy: 0.7100\n",
            "Epoch 12/30\n",
            "63/63 [==============================] - 159s 3s/step - loss: 0.3551 - accuracy: 0.8400 - val_loss: 0.7167 - val_accuracy: 0.6780\n",
            "Epoch 13/30\n",
            "63/63 [==============================] - 162s 3s/step - loss: 0.3099 - accuracy: 0.8660 - val_loss: 0.7304 - val_accuracy: 0.7040\n",
            "Epoch 14/30\n",
            "63/63 [==============================] - 160s 3s/step - loss: 0.2666 - accuracy: 0.8890 - val_loss: 0.6199 - val_accuracy: 0.7550\n",
            "Epoch 15/30\n",
            "63/63 [==============================] - 159s 3s/step - loss: 0.2247 - accuracy: 0.9110 - val_loss: 0.6336 - val_accuracy: 0.7660\n",
            "Epoch 16/30\n",
            "63/63 [==============================] - 160s 3s/step - loss: 0.1985 - accuracy: 0.9155 - val_loss: 0.9824 - val_accuracy: 0.7270\n",
            "Epoch 17/30\n",
            "63/63 [==============================] - 158s 3s/step - loss: 0.1690 - accuracy: 0.9315 - val_loss: 0.9570 - val_accuracy: 0.6970\n",
            "Epoch 18/30\n",
            "63/63 [==============================] - 160s 3s/step - loss: 0.1389 - accuracy: 0.9480 - val_loss: 0.8201 - val_accuracy: 0.7640\n",
            "Epoch 19/30\n",
            "63/63 [==============================] - 160s 3s/step - loss: 0.1370 - accuracy: 0.9515 - val_loss: 0.9094 - val_accuracy: 0.7450\n",
            "Epoch 20/30\n",
            "63/63 [==============================] - 160s 3s/step - loss: 0.1084 - accuracy: 0.9600 - val_loss: 2.1716 - val_accuracy: 0.6920\n",
            "Epoch 21/30\n",
            "63/63 [==============================] - 159s 3s/step - loss: 0.1533 - accuracy: 0.9595 - val_loss: 1.0607 - val_accuracy: 0.7470\n",
            "Epoch 22/30\n",
            "63/63 [==============================] - 159s 3s/step - loss: 0.1084 - accuracy: 0.9655 - val_loss: 0.8993 - val_accuracy: 0.7490\n",
            "Epoch 23/30\n",
            "63/63 [==============================] - 160s 3s/step - loss: 0.0827 - accuracy: 0.9720 - val_loss: 1.0298 - val_accuracy: 0.7730\n",
            "Epoch 24/30\n",
            "63/63 [==============================] - 160s 3s/step - loss: 0.0921 - accuracy: 0.9685 - val_loss: 0.9805 - val_accuracy: 0.7610\n",
            "Epoch 25/30\n",
            "63/63 [==============================] - 161s 3s/step - loss: 0.0800 - accuracy: 0.9715 - val_loss: 1.2600 - val_accuracy: 0.7510\n",
            "Epoch 26/30\n",
            "63/63 [==============================] - 161s 3s/step - loss: 0.0975 - accuracy: 0.9725 - val_loss: 1.0497 - val_accuracy: 0.7380\n",
            "Epoch 27/30\n",
            "63/63 [==============================] - 158s 3s/step - loss: 0.0476 - accuracy: 0.9805 - val_loss: 1.2721 - val_accuracy: 0.7560\n",
            "Epoch 28/30\n",
            "63/63 [==============================] - 158s 3s/step - loss: 0.0844 - accuracy: 0.9765 - val_loss: 1.1617 - val_accuracy: 0.7600\n",
            "Epoch 29/30\n",
            "63/63 [==============================] - 160s 3s/step - loss: 0.0570 - accuracy: 0.9815 - val_loss: 1.4965 - val_accuracy: 0.7600\n",
            "Epoch 30/30\n",
            "63/63 [==============================] - 161s 3s/step - loss: 0.0558 - accuracy: 0.9805 - val_loss: 1.6988 - val_accuracy: 0.7640\n"
          ]
        }
      ],
      "source": [
        "callbacks = [\n",
        "    keras.callbacks.ModelCheckpoint(\n",
        "        filepath=\"convnet_from_scratch.keras\",\n",
        "        save_best_only=True,\n",
        "        monitor=\"val_loss\")\n",
        "]\n",
        "history = model.fit(\n",
        "    train_dataset,\n",
        "    epochs=30,\n",
        "    validation_data=validation_dataset,\n",
        "    callbacks=callbacks)"
      ]
    },
    {
      "cell_type": "markdown",
      "metadata": {
        "id": "AySCml-41xY4"
      },
      "source": [
        "Displaying curves of loss and accuracy during training"
      ]
    },
    {
      "cell_type": "code",
      "execution_count": 18,
      "metadata": {
        "id": "Zwr8X_DK1vVA",
        "colab": {
          "base_uri": "https://localhost:8080/",
          "height": 1000
        },
        "outputId": "55beddb0-05f8-42a5-c767-b73641e9fe7b"
      },
      "outputs": [
        {
          "output_type": "display_data",
          "data": {
            "text/plain": [
              "<Figure size 720x720 with 1 Axes>"
            ],
            "image/png": "[encoded data removed]"
          },
          "metadata": {
            "needs_background": "light"
          }
        },
        {
          "output_type": "display_data",
          "data": {
            "text/plain": [
              "<Figure size 432x288 with 0 Axes>"
            ]
          },
          "metadata": {}
        },
        {
          "output_type": "display_data",
          "data": {
            "text/plain": [
              "<Figure size 720x720 with 1 Axes>"
            ],
            "image/png": "[encoded data removed]"
          },
          "metadata": {
            "needs_background": "light"
          }
        }
      ],
      "source": [
        "import matplotlib.pyplot as plt\n",
        "plt.figure(figsize=(10,10))\n",
        "accuracy = history.history[\"accuracy\"]\n",
        "val_accuracy = history.history[\"val_accuracy\"]\n",
        "loss = history.history[\"loss\"]\n",
        "val_loss = history.history[\"val_loss\"]\n",
        "epochs = range(1, len(accuracy) + 1)\n",
        "plt.plot(epochs, accuracy, \"bo\", label=\"Training accuracy\")\n",
        "plt.plot(epochs, val_accuracy, \"b\", label=\"Validation accuracy\")\n",
        "plt.title(\"Training and validation accuracy\")\n",
        "plt.legend()\n",
        "plt.figure()\n",
        "plt.figure(figsize=(10,10))\n",
        "plt.plot(epochs, loss, \"bo\", label=\"Training loss\")\n",
        "plt.plot(epochs, val_loss, \"b\", label=\"Validation loss\")\n",
        "plt.title(\"Training and validation loss\")\n",
        "plt.legend()\n",
        "plt.show()"
      ]
    },
    {
      "cell_type": "markdown",
      "metadata": {
        "id": "0erdhNtz150I"
      },
      "source": [
        "**Evaluating the model on the test set**"
      ]
    },
    {
      "cell_type": "code",
      "execution_count": 19,
      "metadata": {
        "id": "JII_HCGc1-Rt",
        "colab": {
          "base_uri": "https://localhost:8080/"
        },
        "outputId": "bdf45022-a7f5-4ad7-ec0e-7133c3cb854c"
      },
      "outputs": [
        {
          "output_type": "stream",
          "name": "stdout",
          "text": [
            "32/32 [==============================] - 19s 593ms/step - loss: 0.6458 - accuracy: 0.7160\n",
            "Test accuracy: 0.716\n"
          ]
        }
      ],
      "source": [
        "test_model = keras.models.load_model(\"convnet_from_scratch.keras\")\n",
        "test_loss, test_acc = test_model.evaluate(test_dataset)\n",
        "print(f\"Test accuracy: {test_acc:.3f}\")"
      ]
    },
    {
      "cell_type": "markdown",
      "metadata": {
        "id": "y5kQWBNh2EpT"
      },
      "source": [
        "Here we got training accurracy as 98.05%, validation accuracy as 76.4% and test accuracy 71.6%"
      ]
    },
    {
      "cell_type": "markdown",
      "metadata": {
        "id": "-dG9616L2H9h"
      },
      "source": [
        "# **Question 2**\n",
        "\n",
        "**Increase your training sample size. You may pick any amount. Keep the validation and test samples the same as above. Optimize your network (again training from scratch). What performance did you achieve?**\n",
        "## **Using data augmentation**\n",
        "**Define a data augmentation stage to add to an image model**"
      ]
    },
    {
      "cell_type": "code",
      "execution_count": 20,
      "metadata": {
        "id": "x0ejbId42nEB"
      },
      "outputs": [],
      "source": [
        "import os, shutil, pathlib\n",
        "\n",
        "shutil.rmtree(\"./cats_vs_dogs_small_Q2\", ignore_errors=True)\n",
        "\n",
        "original_dir = pathlib.Path(\"train\")\n",
        "new_base_dir = pathlib.Path(\"cats_vs_dogs_small_Q2\")\n",
        "\n",
        "def make_subset(subset_name, start_index, end_index):\n",
        "    for category in (\"cat\", \"dog\"):\n",
        "        dir = new_base_dir / subset_name / category\n",
        "        os.makedirs(dir)\n",
        "        fnames = [f\"{category}.{i}.jpg\" for i in range(start_index, end_index)]\n",
        "        for fname in fnames:\n",
        "            shutil.copyfile(src=original_dir / fname,\n",
        "                            dst=dir / fname)\n",
        "#Here I have increased training sample size to 1500 and keeping the validation and test sample size to 500 each as before\n",
        "make_subset(\"train\", start_index=0, end_index=1500)\n",
        "make_subset(\"validation\", start_index=1500, end_index=2000)\n",
        "make_subset(\"test\", start_index=2000, end_index=2500)"
      ]
    },
    {
      "cell_type": "code",
      "execution_count": 21,
      "metadata": {
        "id": "tn5A0Lfz2qSi"
      },
      "outputs": [],
      "source": [
        "data_augmentation = keras.Sequential(\n",
        "    [\n",
        "        layers.RandomFlip(\"horizontal\"),\n",
        "        layers.RandomRotation(0.1),\n",
        "        layers.RandomZoom(0.2),\n",
        "    ]\n",
        ")"
      ]
    },
    {
      "cell_type": "markdown",
      "metadata": {
        "id": "Lq0_4WwK2spE"
      },
      "source": [
        "Displaying some randomly augmented training images"
      ]
    },
    {
      "cell_type": "code",
      "execution_count": 22,
      "metadata": {
        "id": "RLcq18vo2vJ4",
        "colab": {
          "base_uri": "https://localhost:8080/",
          "height": 575
        },
        "outputId": "79038ff0-2de3-4808-88a1-436c543ce31a"
      },
      "outputs": [
        {
          "output_type": "display_data",
          "data": {
            "text/plain": [
              "<Figure size 720x720 with 9 Axes>"
            ],
            "image/png": "[encoded data removed]"
          },
          "metadata": {
            "needs_background": "light"
          }
        }
      ],
      "source": [
        "plt.figure(figsize=(10, 10))\n",
        "for images, _ in train_dataset.take(1):\n",
        "    for i in range(9):\n",
        "        augmented_images = data_augmentation(images)\n",
        "        ax = plt.subplot(3, 3, i + 1)\n",
        "        plt.imshow(augmented_images[0].numpy().astype(\"uint8\"))\n",
        "        plt.axis(\"off\")"
      ]
    },
    {
      "cell_type": "markdown",
      "metadata": {
        "id": "X6em8FXc2yPS"
      },
      "source": [
        "**Defining a new convnet that includes image augmentation and dropout**"
      ]
    },
    {
      "cell_type": "code",
      "execution_count": 23,
      "metadata": {
        "id": "B50_rznc210M"
      },
      "outputs": [],
      "source": [
        "inputs = keras.Input(shape=(180, 180, 3))\n",
        "x = data_augmentation(inputs)\n",
        "x = layers.Rescaling(1./255)(x)\n",
        "x = layers.Conv2D(filters=32, kernel_size=3, activation=\"relu\")(x)\n",
        "x = layers.MaxPooling2D(pool_size=2)(x)\n",
        "x = layers.Conv2D(filters=64, kernel_size=3, activation=\"relu\")(x)\n",
        "x = layers.MaxPooling2D(pool_size=2)(x)\n",
        "x = layers.Conv2D(filters=128, kernel_size=3, activation=\"relu\")(x)\n",
        "x = layers.MaxPooling2D(pool_size=2)(x)\n",
        "x = layers.Conv2D(filters=256, kernel_size=3, activation=\"relu\")(x)\n",
        "x = layers.MaxPooling2D(pool_size=2)(x)\n",
        "x = layers.Conv2D(filters=256, kernel_size=3, activation=\"relu\")(x)\n",
        "x = layers.Flatten()(x)\n",
        "x = layers.Dropout(0.5)(x)\n",
        "outputs = layers.Dense(1, activation=\"sigmoid\")(x)\n",
        "model = keras.Model(inputs=inputs, outputs=outputs)\n",
        "\n",
        "model.compile(loss=\"binary_crossentropy\",\n",
        "              optimizer=\"rmsprop\",\n",
        "              metrics=[\"accuracy\"])"
      ]
    },
    {
      "cell_type": "markdown",
      "metadata": {
        "id": "YXrE_w_A26n_"
      },
      "source": [
        "**Training the regularized convnet**"
      ]
    },
    {
      "cell_type": "code",
      "execution_count": 24,
      "metadata": {
        "id": "-g7vmTBu285j",
        "colab": {
          "base_uri": "https://localhost:8080/"
        },
        "outputId": "4d1d1451-8fe5-443e-a60a-a457a57aa3a9"
      },
      "outputs": [
        {
          "output_type": "stream",
          "name": "stdout",
          "text": [
            "Epoch 1/20\n",
            "63/63 [==============================] - 173s 3s/step - loss: 0.8823 - accuracy: 0.5125 - val_loss: 0.6918 - val_accuracy: 0.5320\n",
            "Epoch 2/20\n",
            "63/63 [==============================] - 170s 3s/step - loss: 0.7281 - accuracy: 0.5150 - val_loss: 0.6880 - val_accuracy: 0.5680\n",
            "Epoch 3/20\n",
            "63/63 [==============================] - 169s 3s/step - loss: 0.6878 - accuracy: 0.5620 - val_loss: 0.6675 - val_accuracy: 0.6160\n",
            "Epoch 4/20\n",
            "63/63 [==============================] - 168s 3s/step - loss: 0.6906 - accuracy: 0.6165 - val_loss: 0.6763 - val_accuracy: 0.5830\n",
            "Epoch 5/20\n",
            "63/63 [==============================] - 170s 3s/step - loss: 0.6709 - accuracy: 0.6345 - val_loss: 0.6105 - val_accuracy: 0.6430\n",
            "Epoch 6/20\n",
            "63/63 [==============================] - 170s 3s/step - loss: 0.6449 - accuracy: 0.6425 - val_loss: 0.6307 - val_accuracy: 0.6100\n",
            "Epoch 7/20\n",
            "63/63 [==============================] - 173s 3s/step - loss: 0.6208 - accuracy: 0.6665 - val_loss: 0.6214 - val_accuracy: 0.6720\n",
            "Epoch 8/20\n",
            "63/63 [==============================] - 169s 3s/step - loss: 0.6057 - accuracy: 0.6825 - val_loss: 0.5939 - val_accuracy: 0.6710\n",
            "Epoch 9/20\n",
            "63/63 [==============================] - 167s 3s/step - loss: 0.5989 - accuracy: 0.6790 - val_loss: 0.5803 - val_accuracy: 0.6940\n",
            "Epoch 10/20\n",
            "63/63 [==============================] - 168s 3s/step - loss: 0.5791 - accuracy: 0.7050 - val_loss: 0.5728 - val_accuracy: 0.6980\n",
            "Epoch 11/20\n",
            "63/63 [==============================] - 168s 3s/step - loss: 0.5985 - accuracy: 0.7140 - val_loss: 0.6252 - val_accuracy: 0.6840\n",
            "Epoch 12/20\n",
            "63/63 [==============================] - 168s 3s/step - loss: 0.5549 - accuracy: 0.7065 - val_loss: 0.5808 - val_accuracy: 0.7290\n",
            "Epoch 13/20\n",
            "63/63 [==============================] - 167s 3s/step - loss: 0.5629 - accuracy: 0.7135 - val_loss: 0.5830 - val_accuracy: 0.7020\n",
            "Epoch 14/20\n",
            "63/63 [==============================] - 167s 3s/step - loss: 0.5483 - accuracy: 0.7230 - val_loss: 0.5870 - val_accuracy: 0.6870\n",
            "Epoch 15/20\n",
            "63/63 [==============================] - 168s 3s/step - loss: 0.5245 - accuracy: 0.7380 - val_loss: 0.4865 - val_accuracy: 0.7540\n",
            "Epoch 16/20\n",
            "63/63 [==============================] - 167s 3s/step - loss: 0.5279 - accuracy: 0.7315 - val_loss: 0.5095 - val_accuracy: 0.7490\n",
            "Epoch 17/20\n",
            "63/63 [==============================] - 168s 3s/step - loss: 0.5160 - accuracy: 0.7470 - val_loss: 0.4942 - val_accuracy: 0.7700\n",
            "Epoch 18/20\n",
            "63/63 [==============================] - 166s 3s/step - loss: 0.5075 - accuracy: 0.7570 - val_loss: 0.5251 - val_accuracy: 0.7480\n",
            "Epoch 19/20\n",
            "63/63 [==============================] - 167s 3s/step - loss: 0.4939 - accuracy: 0.7645 - val_loss: 0.4842 - val_accuracy: 0.7740\n",
            "Epoch 20/20\n",
            "63/63 [==============================] - 167s 3s/step - loss: 0.4911 - accuracy: 0.7515 - val_loss: 0.5374 - val_accuracy: 0.7490\n"
          ]
        }
      ],
      "source": [
        "callbacks = [\n",
        "    keras.callbacks.ModelCheckpoint(\n",
        "        filepath=\"convnet_from_scratch_with_augmentation.keras\",\n",
        "        save_best_only=True,\n",
        "        monitor=\"val_loss\")\n",
        "]\n",
        "history = model.fit(\n",
        "    train_dataset,\n",
        "    epochs=20,\n",
        "    validation_data=validation_dataset,\n",
        "    callbacks=callbacks)"
      ]
    },
    {
      "cell_type": "markdown",
      "metadata": {
        "id": "67Af5Rhf3D_c"
      },
      "source": [
        "**Evaluating the model on the test set**"
      ]
    },
    {
      "cell_type": "code",
      "execution_count": 25,
      "metadata": {
        "id": "Nl2ei2e73DmA",
        "colab": {
          "base_uri": "https://localhost:8080/"
        },
        "outputId": "3d193165-f466-4f77-a789-88b5357655ec"
      },
      "outputs": [
        {
          "output_type": "stream",
          "name": "stdout",
          "text": [
            "32/32 [==============================] - 19s 582ms/step - loss: 0.5675 - accuracy: 0.7340\n",
            "Test accuracy: 0.734\n"
          ]
        }
      ],
      "source": [
        "test_model = keras.models.load_model(\n",
        "    \"convnet_from_scratch_with_augmentation.keras\")\n",
        "test_loss, test_acc = test_model.evaluate(test_dataset)\n",
        "print(f\"Test accuracy: {test_acc:.3f}\")"
      ]
    },
    {
      "cell_type": "markdown",
      "metadata": {
        "id": "JamCCT_J3MIh"
      },
      "source": [
        "# We got training accuracy 75.15% and validation accuracy 74.9% and test accuracy 73.4%"
      ]
    },
    {
      "cell_type": "markdown",
      "metadata": {
        "id": "mDF6RfvD3S1V"
      },
      "source": [
        "# **Question 3**\n",
        "**Now change your training sample so that you achieve better performance than those from Steps 1 and 2. This sample size may be larger, or smaller than those in the previous steps. The objective is to find the ideal training sample size to get best prediction results**."
      ]
    },
    {
      "cell_type": "code",
      "execution_count": 26,
      "metadata": {
        "id": "0_MfH1Gi3blZ"
      },
      "outputs": [],
      "source": [
        "original_dir = pathlib.Path(\"train\")\n",
        "new_base_dir = pathlib.Path(\"cats_vs_dogs_small_Q3\")\n",
        "\n",
        "def make_subset(subset_name, start_index, end_index):\n",
        "    for category in (\"cat\", \"dog\"):\n",
        "        dir = new_base_dir / subset_name / category\n",
        "        os.makedirs(dir)\n",
        "        fnames = [f\"{category}.{i}.jpg\" for i in range(start_index, end_index)]\n",
        "        for fname in fnames:\n",
        "            shutil.copyfile(src=original_dir / fname,\n",
        "                            dst=dir / fname)\n",
        "#As increasing the sample size is always good than decreasing, here we're increasing the training the sample size to 2000\n",
        "make_subset(\"train\", start_index=0, end_index=2000)\n",
        "#validation and test sample size 500 each\n",
        "make_subset(\"validation\", start_index=2000, end_index=2500)\n",
        "make_subset(\"test\", start_index=2500, end_index=3000)"
      ]
    },
    {
      "cell_type": "code",
      "execution_count": 27,
      "metadata": {
        "id": "BU_nmUK23eX2"
      },
      "outputs": [],
      "source": [
        "inputs = keras.Input(shape=(180, 180, 3))\n",
        "x = data_augmentation(inputs)\n",
        "x = layers.Rescaling(1./255)(x)\n",
        "x = layers.Conv2D(filters=32, kernel_size=3, activation=\"relu\")(x)\n",
        "x = layers.MaxPooling2D(pool_size=2)(x)\n",
        "x = layers.Conv2D(filters=64, kernel_size=3, activation=\"relu\")(x)\n",
        "x = layers.MaxPooling2D(pool_size=2)(x)\n",
        "x = layers.Conv2D(filters=128, kernel_size=3, activation=\"relu\")(x)\n",
        "x = layers.MaxPooling2D(pool_size=2)(x)\n",
        "x = layers.Conv2D(filters=256, kernel_size=3, activation=\"relu\")(x)\n",
        "x = layers.MaxPooling2D(pool_size=2)(x)\n",
        "x = layers.Conv2D(filters=256, kernel_size=3, activation=\"relu\")(x)\n",
        "x = layers.Flatten()(x)\n",
        "x = layers.Dropout(0.5)(x)\n",
        "outputs = layers.Dense(1, activation=\"sigmoid\")(x)\n",
        "model = keras.Model(inputs=inputs, outputs=outputs)\n",
        "\n",
        "model.compile(loss=\"binary_crossentropy\",\n",
        "              optimizer=\"adam\",\n",
        "              metrics=[\"accuracy\"])"
      ]
    },
    {
      "cell_type": "code",
      "execution_count": 28,
      "metadata": {
        "colab": {
          "base_uri": "https://localhost:8080/"
        },
        "id": "GQ9hPMyW3hkT",
        "outputId": "867117ee-c4be-4537-9d3d-e011250100f1"
      },
      "outputs": [
        {
          "output_type": "stream",
          "name": "stdout",
          "text": [
            "Epoch 1/20\n",
            "63/63 [==============================] - 169s 3s/step - loss: 0.6963 - accuracy: 0.5020 - val_loss: 0.6929 - val_accuracy: 0.5080\n",
            "Epoch 2/20\n",
            "63/63 [==============================] - 172s 3s/step - loss: 0.6923 - accuracy: 0.5205 - val_loss: 0.6931 - val_accuracy: 0.5000\n",
            "Epoch 3/20\n",
            "63/63 [==============================] - 169s 3s/step - loss: 0.6925 - accuracy: 0.5075 - val_loss: 0.6935 - val_accuracy: 0.5000\n",
            "Epoch 4/20\n",
            "63/63 [==============================] - 169s 3s/step - loss: 0.6935 - accuracy: 0.4975 - val_loss: 0.6932 - val_accuracy: 0.5000\n",
            "Epoch 5/20\n",
            "63/63 [==============================] - 170s 3s/step - loss: 0.6933 - accuracy: 0.4930 - val_loss: 0.6931 - val_accuracy: 0.5000\n",
            "Epoch 6/20\n",
            "63/63 [==============================] - 170s 3s/step - loss: 0.6932 - accuracy: 0.4805 - val_loss: 0.6932 - val_accuracy: 0.5000\n",
            "Epoch 7/20\n",
            "63/63 [==============================] - 171s 3s/step - loss: 0.6931 - accuracy: 0.4980 - val_loss: 0.6931 - val_accuracy: 0.5040\n",
            "Epoch 8/20\n",
            "63/63 [==============================] - 169s 3s/step - loss: 0.6934 - accuracy: 0.5100 - val_loss: 0.6932 - val_accuracy: 0.5000\n",
            "Epoch 9/20\n",
            "63/63 [==============================] - 172s 3s/step - loss: 0.6932 - accuracy: 0.5000 - val_loss: 0.6931 - val_accuracy: 0.5000\n",
            "Epoch 10/20\n",
            "63/63 [==============================] - 171s 3s/step - loss: 0.6932 - accuracy: 0.4955 - val_loss: 0.6932 - val_accuracy: 0.5000\n",
            "Epoch 11/20\n",
            "63/63 [==============================] - 172s 3s/step - loss: 0.6932 - accuracy: 0.4905 - val_loss: 0.6930 - val_accuracy: 0.5450\n",
            "Epoch 12/20\n",
            "63/63 [==============================] - 172s 3s/step - loss: 0.6927 - accuracy: 0.5085 - val_loss: 0.6931 - val_accuracy: 0.5000\n",
            "Epoch 13/20\n",
            "63/63 [==============================] - 170s 3s/step - loss: 0.6938 - accuracy: 0.4955 - val_loss: 0.6932 - val_accuracy: 0.5000\n",
            "Epoch 14/20\n",
            "63/63 [==============================] - 169s 3s/step - loss: 0.6933 - accuracy: 0.5050 - val_loss: 0.6931 - val_accuracy: 0.5000\n",
            "Epoch 15/20\n",
            "63/63 [==============================] - 171s 3s/step - loss: 0.6921 - accuracy: 0.5220 - val_loss: 0.6836 - val_accuracy: 0.5000\n",
            "Epoch 16/20\n",
            "63/63 [==============================] - 170s 3s/step - loss: 0.6900 - accuracy: 0.5095 - val_loss: 0.6776 - val_accuracy: 0.5700\n",
            "Epoch 17/20\n",
            "63/63 [==============================] - 169s 3s/step - loss: 0.6911 - accuracy: 0.5315 - val_loss: 0.6875 - val_accuracy: 0.5490\n",
            "Epoch 18/20\n",
            "63/63 [==============================] - 170s 3s/step - loss: 0.6901 - accuracy: 0.5365 - val_loss: 0.6825 - val_accuracy: 0.5480\n",
            "Epoch 19/20\n",
            "63/63 [==============================] - 173s 3s/step - loss: 0.6921 - accuracy: 0.5155 - val_loss: 0.6889 - val_accuracy: 0.5030\n",
            "Epoch 20/20\n",
            "63/63 [==============================] - 170s 3s/step - loss: 0.6835 - accuracy: 0.5480 - val_loss: 0.6899 - val_accuracy: 0.5080\n"
          ]
        }
      ],
      "source": [
        "callbacks = [\n",
        "    keras.callbacks.ModelCheckpoint(\n",
        "        filepath=\"convnet_from_scratch_with_augmentation1.keras\",\n",
        "        save_best_only=True,\n",
        "        monitor=\"val_loss\")\n",
        "]\n",
        "history = model.fit(\n",
        "    train_dataset,\n",
        "    epochs=20,\n",
        "    validation_data=validation_dataset,\n",
        "    callbacks=callbacks)"
      ]
    },
    {
      "cell_type": "code",
      "execution_count": 29,
      "metadata": {
        "colab": {
          "base_uri": "https://localhost:8080/"
        },
        "id": "fMTRQ8aZ3qtE",
        "outputId": "383ffbb0-51eb-424d-ff8a-4a2a782c6a19"
      },
      "outputs": [
        {
          "output_type": "stream",
          "name": "stdout",
          "text": [
            "32/32 [==============================] - 20s 598ms/step - loss: 0.6882 - accuracy: 0.5470\n",
            "Test accuracy: 0.547\n"
          ]
        }
      ],
      "source": [
        "test_model = keras.models.load_model(\n",
        "    \"convnet_from_scratch_with_augmentation1.keras\")\n",
        "test_loss, test_acc = test_model.evaluate(test_dataset)\n",
        "print(f\"Test accuracy: {test_acc:.3f}\")"
      ]
    },
    {
      "cell_type": "markdown",
      "metadata": {
        "id": "DHxjo-9L3uSU"
      },
      "source": [
        "# Training accuracy of 54.8% and validation accuracy of 68.99% and test accuracy 54.7%"
      ]
    },
    {
      "cell_type": "markdown",
      "metadata": {
        "id": "l4VtcYof30KG"
      },
      "source": [
        "# **Question 4**\n",
        "**Repeat Steps 1-3, but now using a pretrained network. The sample sizes you use in Steps 2 and 3 for the pretrained network may be the same or different from those using the network where you trained from scratch. Again, use any and all optimization techniques to get best performance.**\n",
        "# Leveraging a pretrained model\n",
        "# Feature extraction with a pretrained model\n",
        "# **Instantiating the VGG16 convolutional base**"
      ]
    },
    {
      "cell_type": "code",
      "execution_count": 30,
      "metadata": {
        "id": "r8sIo3D54P_5",
        "colab": {
          "base_uri": "https://localhost:8080/"
        },
        "outputId": "cf452bd3-0ef7-4224-ab70-088a1b8e676a"
      },
      "outputs": [
        {
          "output_type": "stream",
          "name": "stdout",
          "text": [
            "Downloading data from https://storage.googleapis.com/tensorflow/keras-applications/vgg16/vgg16_weights_tf_dim_ordering_tf_kernels_notop.h5\n",
            "58889256/58889256 [==============================] - 0s 0us/step\n"
          ]
        }
      ],
      "source": [
        "conv_base = keras.applications.vgg16.VGG16(\n",
        "    weights=\"imagenet\",\n",
        "    include_top=False,\n",
        "    input_shape=(180, 180, 3))"
      ]
    },
    {
      "cell_type": "code",
      "execution_count": 31,
      "metadata": {
        "colab": {
          "base_uri": "https://localhost:8080/"
        },
        "id": "q6-JJwOX4TVB",
        "outputId": "f185de17-6bfb-4664-b718-b86acb97530c"
      },
      "outputs": [
        {
          "output_type": "stream",
          "name": "stdout",
          "text": [
            "Model: \"vgg16\"\n",
            "_________________________________________________________________\n",
            " Layer (type)                Output Shape              Param #   \n",
            "=================================================================\n",
            " input_4 (InputLayer)        [(None, 180, 180, 3)]     0         \n",
            "                                                                 \n",
            " block1_conv1 (Conv2D)       (None, 180, 180, 64)      1792      \n",
            "                                                                 \n",
            " block1_conv2 (Conv2D)       (None, 180, 180, 64)      36928     \n",
            "                                                                 \n",
            " block1_pool (MaxPooling2D)  (None, 90, 90, 64)        0         \n",
            "                                                                 \n",
            " block2_conv1 (Conv2D)       (None, 90, 90, 128)       73856     \n",
            "                                                                 \n",
            " block2_conv2 (Conv2D)       (None, 90, 90, 128)       147584    \n",
            "                                                                 \n",
            " block2_pool (MaxPooling2D)  (None, 45, 45, 128)       0         \n",
            "                                                                 \n",
            " block3_conv1 (Conv2D)       (None, 45, 45, 256)       295168    \n",
            "                                                                 \n",
            " block3_conv2 (Conv2D)       (None, 45, 45, 256)       590080    \n",
            "                                                                 \n",
            " block3_conv3 (Conv2D)       (None, 45, 45, 256)       590080    \n",
            "                                                                 \n",
            " block3_pool (MaxPooling2D)  (None, 22, 22, 256)       0         \n",
            "                                                                 \n",
            " block4_conv1 (Conv2D)       (None, 22, 22, 512)       1180160   \n",
            "                                                                 \n",
            " block4_conv2 (Conv2D)       (None, 22, 22, 512)       2359808   \n",
            "                                                                 \n",
            " block4_conv3 (Conv2D)       (None, 22, 22, 512)       2359808   \n",
            "                                                                 \n",
            " block4_pool (MaxPooling2D)  (None, 11, 11, 512)       0         \n",
            "                                                                 \n",
            " block5_conv1 (Conv2D)       (None, 11, 11, 512)       2359808   \n",
            "                                                                 \n",
            " block5_conv2 (Conv2D)       (None, 11, 11, 512)       2359808   \n",
            "                                                                 \n",
            " block5_conv3 (Conv2D)       (None, 11, 11, 512)       2359808   \n",
            "                                                                 \n",
            " block5_pool (MaxPooling2D)  (None, 5, 5, 512)         0         \n",
            "                                                                 \n",
            "=================================================================\n",
            "Total params: 14,714,688\n",
            "Trainable params: 14,714,688\n",
            "Non-trainable params: 0\n",
            "_________________________________________________________________\n"
          ]
        }
      ],
      "source": [
        "conv_base.summary()"
      ]
    },
    {
      "cell_type": "markdown",
      "metadata": {
        "id": "Gi2rVUpX4YJF"
      },
      "source": [
        "Fast feature extraction without data augmentation\n",
        "\n",
        "**Extracting the VGG16 features and corresponding labels**"
      ]
    },
    {
      "cell_type": "code",
      "execution_count": null,
      "metadata": {
        "id": "orI3wWrP4j1b"
      },
      "outputs": [],
      "source": [
        "import numpy as np\n",
        "\n",
        "def get_features_and_labels(dataset):\n",
        "    all_features = []\n",
        "    all_labels = []\n",
        "    for images, labels in dataset:\n",
        "        preprocessed_images = keras.applications.vgg16.preprocess_input(images)\n",
        "        features = conv_base.predict(preprocessed_images)\n",
        "        all_features.append(features)\n",
        "        all_labels.append(labels)\n",
        "    return np.concatenate(all_features), np.concatenate(all_labels)\n",
        "\n",
        "train_features, train_labels =  get_features_and_labels(train_dataset)\n",
        "val_features, val_labels =  get_features_and_labels(validation_dataset)\n",
        "test_features, test_labels =  get_features_and_labels(test_dataset)"
      ]
    },
    {
      "cell_type": "code",
      "execution_count": 33,
      "metadata": {
        "id": "mYGXZG6R4m29",
        "colab": {
          "base_uri": "https://localhost:8080/"
        },
        "outputId": "dc7606db-193b-45c2-dbdf-5e98812eb287"
      },
      "outputs": [
        {
          "output_type": "execute_result",
          "data": {
            "text/plain": [
              "(2000, 5, 5, 512)"
            ]
          },
          "metadata": {},
          "execution_count": 33
        }
      ],
      "source": [
        "train_features.shape"
      ]
    },
    {
      "cell_type": "markdown",
      "metadata": {
        "id": "ZL2UnXUw4qMO"
      },
      "source": [
        "**Defining and training the densely connected classifier**"
      ]
    },
    {
      "cell_type": "code",
      "execution_count": 34,
      "metadata": {
        "id": "T5RxlE_74vgY",
        "colab": {
          "base_uri": "https://localhost:8080/"
        },
        "outputId": "26f7007e-903d-429f-9b98-9e968ecab162"
      },
      "outputs": [
        {
          "output_type": "stream",
          "name": "stdout",
          "text": [
            "Epoch 1/20\n",
            "63/63 [==============================] - 3s 44ms/step - loss: 14.1005 - accuracy: 0.9270 - val_loss: 5.2702 - val_accuracy: 0.9630\n",
            "Epoch 2/20\n",
            "63/63 [==============================] - 3s 45ms/step - loss: 3.9915 - accuracy: 0.9685 - val_loss: 16.5046 - val_accuracy: 0.9200\n",
            "Epoch 3/20\n",
            "63/63 [==============================] - 3s 45ms/step - loss: 3.2032 - accuracy: 0.9780 - val_loss: 4.1896 - val_accuracy: 0.9660\n",
            "Epoch 4/20\n",
            "63/63 [==============================] - 2s 39ms/step - loss: 1.1624 - accuracy: 0.9915 - val_loss: 4.2263 - val_accuracy: 0.9740\n",
            "Epoch 5/20\n",
            "63/63 [==============================] - 2s 39ms/step - loss: 0.8767 - accuracy: 0.9885 - val_loss: 6.0990 - val_accuracy: 0.9570\n",
            "Epoch 6/20\n",
            "63/63 [==============================] - 3s 43ms/step - loss: 0.5154 - accuracy: 0.9955 - val_loss: 3.6936 - val_accuracy: 0.9750\n",
            "Epoch 7/20\n",
            "63/63 [==============================] - 3s 42ms/step - loss: 0.3813 - accuracy: 0.9960 - val_loss: 4.6162 - val_accuracy: 0.9730\n",
            "Epoch 8/20\n",
            "63/63 [==============================] - 2s 38ms/step - loss: 0.0637 - accuracy: 0.9985 - val_loss: 7.7820 - val_accuracy: 0.9660\n",
            "Epoch 9/20\n",
            "63/63 [==============================] - 2s 39ms/step - loss: 0.2232 - accuracy: 0.9980 - val_loss: 10.7358 - val_accuracy: 0.9570\n",
            "Epoch 10/20\n",
            "63/63 [==============================] - 3s 49ms/step - loss: 0.2492 - accuracy: 0.9975 - val_loss: 5.9350 - val_accuracy: 0.9720\n",
            "Epoch 11/20\n",
            "63/63 [==============================] - 3s 47ms/step - loss: 0.2522 - accuracy: 0.9970 - val_loss: 10.5302 - val_accuracy: 0.9650\n",
            "Epoch 12/20\n",
            "63/63 [==============================] - 2s 38ms/step - loss: 0.0319 - accuracy: 0.9995 - val_loss: 5.4004 - val_accuracy: 0.9730\n",
            "Epoch 13/20\n",
            "63/63 [==============================] - 3s 42ms/step - loss: 0.0023 - accuracy: 0.9995 - val_loss: 6.7503 - val_accuracy: 0.9670\n",
            "Epoch 14/20\n",
            "63/63 [==============================] - 2s 38ms/step - loss: 1.4394e-16 - accuracy: 1.0000 - val_loss: 6.7503 - val_accuracy: 0.9670\n",
            "Epoch 15/20\n",
            "63/63 [==============================] - 3s 42ms/step - loss: 6.2638e-06 - accuracy: 1.0000 - val_loss: 9.9020 - val_accuracy: 0.9610\n",
            "Epoch 16/20\n",
            "63/63 [==============================] - 3s 42ms/step - loss: 0.1947 - accuracy: 0.9985 - val_loss: 5.8146 - val_accuracy: 0.9710\n",
            "Epoch 17/20\n",
            "63/63 [==============================] - 3s 42ms/step - loss: 9.5593e-10 - accuracy: 1.0000 - val_loss: 5.6203 - val_accuracy: 0.9710\n",
            "Epoch 18/20\n",
            "63/63 [==============================] - 3s 41ms/step - loss: 0.0333 - accuracy: 0.9995 - val_loss: 8.1979 - val_accuracy: 0.9690\n",
            "Epoch 19/20\n",
            "63/63 [==============================] - 2s 39ms/step - loss: 0.0032 - accuracy: 0.9995 - val_loss: 5.9419 - val_accuracy: 0.9730\n",
            "Epoch 20/20\n",
            "63/63 [==============================] - 2s 39ms/step - loss: 0.0272 - accuracy: 0.9990 - val_loss: 7.5082 - val_accuracy: 0.9670\n"
          ]
        }
      ],
      "source": [
        "inputs = keras.Input(shape=(5, 5, 512))\n",
        "x = layers.Flatten()(inputs)\n",
        "x = layers.Dense(256)(x)\n",
        "x = layers.Dropout(0.5)(x)\n",
        "outputs = layers.Dense(1, activation=\"sigmoid\")(x)\n",
        "model = keras.Model(inputs, outputs)\n",
        "model.compile(loss=\"binary_crossentropy\",\n",
        "              optimizer=\"rmsprop\",\n",
        "              metrics=[\"accuracy\"])\n",
        "\n",
        "callbacks = [\n",
        "    keras.callbacks.ModelCheckpoint(\n",
        "      filepath=\"feature_extraction.keras\",\n",
        "      save_best_only=True,\n",
        "      monitor=\"val_loss\")\n",
        "]\n",
        "history = model.fit(\n",
        "    train_features, train_labels,\n",
        "    epochs=20,\n",
        "    validation_data=(val_features, val_labels),\n",
        "    callbacks=callbacks)"
      ]
    },
    {
      "cell_type": "markdown",
      "metadata": {
        "id": "3CQaZaeq4z3L"
      },
      "source": [
        "**Plotting the results**"
      ]
    },
    {
      "cell_type": "code",
      "execution_count": 35,
      "metadata": {
        "id": "K7w9q7a942L0",
        "colab": {
          "base_uri": "https://localhost:8080/",
          "height": 545
        },
        "outputId": "8e688a22-d899-44e4-b84d-adf7f090ab7a"
      },
      "outputs": [
        {
          "output_type": "display_data",
          "data": {
            "text/plain": [
              "<Figure size 432x288 with 1 Axes>"
            ],
            "image/png": "[encoded data removed]"
          },
          "metadata": {
            "needs_background": "light"
          }
        },
        {
          "output_type": "display_data",
          "data": {
            "text/plain": [
              "<Figure size 432x288 with 1 Axes>"
            ],
            "image/png": "[encoded data removed]"
          },
          "metadata": {
            "needs_background": "light"
          }
        }
      ],
      "source": [
        "import matplotlib.pyplot as plt\n",
        "acc = history.history[\"accuracy\"]\n",
        "val_acc = history.history[\"val_accuracy\"]\n",
        "loss = history.history[\"loss\"]\n",
        "val_loss = history.history[\"val_loss\"]\n",
        "epochs = range(1, len(acc) + 1)\n",
        "plt.plot(epochs, acc, \"bo\", label=\"Training accuracy\")\n",
        "plt.plot(epochs, val_acc, \"b\", label=\"Validation accuracy\")\n",
        "plt.title(\"Training and validation accuracy\")\n",
        "plt.legend()\n",
        "plt.figure()\n",
        "plt.plot(epochs, loss, \"bo\", label=\"Training loss\")\n",
        "plt.plot(epochs, val_loss, \"b\", label=\"Validation loss\")\n",
        "plt.title(\"Training and validation loss\")\n",
        "plt.legend()\n",
        "plt.show()"
      ]
    },
    {
      "cell_type": "markdown",
      "metadata": {
        "id": "S_CqLZMx48Rt"
      },
      "source": [
        "Feature extraction together with data augmentation.\n",
        "\n",
        "**Instantiating and freezing the VGG16 convolutional base** "
      ]
    },
    {
      "cell_type": "code",
      "execution_count": 36,
      "metadata": {
        "id": "PHRuvbMK5H8V"
      },
      "outputs": [],
      "source": [
        "conv_base  = keras.applications.vgg16.VGG16(\n",
        "    weights=\"imagenet\",\n",
        "    include_top=False)\n",
        "conv_base.trainable = False"
      ]
    },
    {
      "cell_type": "markdown",
      "metadata": {
        "id": "b84XBMMe5K15"
      },
      "source": [
        "**Printing the list of trainable weights before and after freezing**"
      ]
    },
    {
      "cell_type": "code",
      "execution_count": 37,
      "metadata": {
        "id": "UtcSRdh25OLM",
        "colab": {
          "base_uri": "https://localhost:8080/"
        },
        "outputId": "1dc58719-109c-4339-fb06-56e4fc6bfa80"
      },
      "outputs": [
        {
          "output_type": "stream",
          "name": "stdout",
          "text": [
            "This is the number of trainable weights before freezing the conv base: 26\n"
          ]
        }
      ],
      "source": [
        "conv_base.trainable = True\n",
        "print(\"This is the number of trainable weights \"\n",
        "      \"before freezing the conv base:\", len(conv_base.trainable_weights))"
      ]
    },
    {
      "cell_type": "code",
      "execution_count": 38,
      "metadata": {
        "id": "FKe2CkYz5S4y",
        "colab": {
          "base_uri": "https://localhost:8080/"
        },
        "outputId": "95e3d6d6-342f-4ff3-e6eb-29d91620a4e3"
      },
      "outputs": [
        {
          "output_type": "stream",
          "name": "stdout",
          "text": [
            "This is the number of trainable weights after freezing the conv base: 0\n"
          ]
        }
      ],
      "source": [
        "conv_base.trainable = False\n",
        "print(\"This is the number of trainable weights \"\n",
        "      \"after freezing the conv base:\", len(conv_base.trainable_weights))"
      ]
    },
    {
      "cell_type": "markdown",
      "metadata": {
        "id": "IspB9ObA5V9C"
      },
      "source": [
        "Adding a data augmentation stage and a classifier to the convolutional base"
      ]
    },
    {
      "cell_type": "code",
      "execution_count": 39,
      "metadata": {
        "id": "OlapvUsX5ZZc"
      },
      "outputs": [],
      "source": [
        "data_augmentation = keras.Sequential(\n",
        "    [\n",
        "        layers.RandomFlip(\"horizontal\"),\n",
        "        layers.RandomRotation(0.1),\n",
        "        layers.RandomZoom(0.2),\n",
        "    ]\n",
        ")\n",
        "\n",
        "inputs = keras.Input(shape=(180, 180, 3))\n",
        "x = data_augmentation(inputs)\n",
        "x = keras.applications.vgg16.preprocess_input(x)\n",
        "x = conv_base(x)\n",
        "x = layers.Flatten()(x)\n",
        "x = layers.Dense(256)(x)\n",
        "x = layers.Dropout(0.5)(x)\n",
        "outputs = layers.Dense(1, activation=\"sigmoid\")(x)\n",
        "model = keras.Model(inputs, outputs)\n",
        "model.compile(loss=\"binary_crossentropy\",\n",
        "              optimizer=\"rmsprop\",\n",
        "              metrics=[\"accuracy\"])"
      ]
    },
    {
      "cell_type": "code",
      "execution_count": 40,
      "metadata": {
        "id": "-CXsmelq5b_i",
        "colab": {
          "base_uri": "https://localhost:8080/"
        },
        "outputId": "c4bd5e8f-107b-45f9-8bb6-ae16cf08310c"
      },
      "outputs": [
        {
          "output_type": "stream",
          "name": "stdout",
          "text": [
            "Epoch 1/10\n",
            "63/63 [==============================] - 917s 15s/step - loss: 17.9427 - accuracy: 0.8945 - val_loss: 28.1164 - val_accuracy: 0.8720\n",
            "Epoch 2/10\n",
            "63/63 [==============================] - 897s 14s/step - loss: 7.4731 - accuracy: 0.9375 - val_loss: 15.9808 - val_accuracy: 0.9200\n",
            "Epoch 3/10\n",
            "63/63 [==============================] - 891s 14s/step - loss: 5.1463 - accuracy: 0.9600 - val_loss: 3.7898 - val_accuracy: 0.9720\n",
            "Epoch 4/10\n",
            "63/63 [==============================] - 898s 14s/step - loss: 5.8257 - accuracy: 0.9560 - val_loss: 2.4793 - val_accuracy: 0.9790\n",
            "Epoch 5/10\n",
            "63/63 [==============================] - 900s 14s/step - loss: 5.2557 - accuracy: 0.9615 - val_loss: 1.8142 - val_accuracy: 0.9810\n",
            "Epoch 6/10\n",
            "63/63 [==============================] - 906s 14s/step - loss: 3.4667 - accuracy: 0.9700 - val_loss: 4.5922 - val_accuracy: 0.9710\n",
            "Epoch 7/10\n",
            "63/63 [==============================] - 903s 14s/step - loss: 3.2157 - accuracy: 0.9695 - val_loss: 2.8264 - val_accuracy: 0.9770\n",
            "Epoch 8/10\n",
            "63/63 [==============================] - 903s 14s/step - loss: 3.0578 - accuracy: 0.9720 - val_loss: 3.2685 - val_accuracy: 0.9760\n",
            "Epoch 9/10\n",
            "63/63 [==============================] - 904s 14s/step - loss: 3.0251 - accuracy: 0.9735 - val_loss: 3.1833 - val_accuracy: 0.9680\n",
            "Epoch 10/10\n",
            "63/63 [==============================] - 904s 14s/step - loss: 2.2676 - accuracy: 0.9770 - val_loss: 2.4087 - val_accuracy: 0.9800\n"
          ]
        }
      ],
      "source": [
        "callbacks = [\n",
        "    keras.callbacks.ModelCheckpoint(\n",
        "        filepath=\"feature_extraction_with_data_augmentation.keras\",\n",
        "        save_best_only=True,\n",
        "        monitor=\"val_loss\")\n",
        "]\n",
        "history = model.fit(\n",
        "    train_dataset,\n",
        "    epochs=10,\n",
        "    validation_data=validation_dataset,\n",
        "    callbacks=callbacks)"
      ]
    },
    {
      "cell_type": "markdown",
      "metadata": {
        "id": "A-xnIa4z5hRQ"
      },
      "source": [
        "**Evaluating the model on the test set**"
      ]
    },
    {
      "cell_type": "code",
      "execution_count": 41,
      "metadata": {
        "id": "xk8IVp555mch",
        "colab": {
          "base_uri": "https://localhost:8080/"
        },
        "outputId": "8b20c206-9d96-4fc2-d4eb-f7522934bace"
      },
      "outputs": [
        {
          "output_type": "stream",
          "name": "stdout",
          "text": [
            "32/32 [==============================] - 298s 9s/step - loss: 3.6271 - accuracy: 0.9750\n",
            "Test accuracy: 0.975\n"
          ]
        }
      ],
      "source": [
        "test_model = keras.models.load_model(\n",
        "    \"feature_extraction_with_data_augmentation.keras\")\n",
        "test_loss, test_acc = test_model.evaluate(test_dataset)\n",
        "print(f\"Test accuracy: {test_acc:.3f}\")"
      ]
    },
    {
      "cell_type": "markdown",
      "metadata": {
        "id": "QWFYgGL25sGL"
      },
      "source": [
        "# **Fine-tuning a pretrained model**"
      ]
    },
    {
      "cell_type": "code",
      "execution_count": 42,
      "metadata": {
        "id": "f1vT6XL05vkU",
        "colab": {
          "base_uri": "https://localhost:8080/"
        },
        "outputId": "d2f9bdf5-9c5e-4119-c76e-34ef9ed550e1"
      },
      "outputs": [
        {
          "output_type": "stream",
          "name": "stdout",
          "text": [
            "Model: \"vgg16\"\n",
            "_________________________________________________________________\n",
            " Layer (type)                Output Shape              Param #   \n",
            "=================================================================\n",
            " input_6 (InputLayer)        [(None, None, None, 3)]   0         \n",
            "                                                                 \n",
            " block1_conv1 (Conv2D)       (None, None, None, 64)    1792      \n",
            "                                                                 \n",
            " block1_conv2 (Conv2D)       (None, None, None, 64)    36928     \n",
            "                                                                 \n",
            " block1_pool (MaxPooling2D)  (None, None, None, 64)    0         \n",
            "                                                                 \n",
            " block2_conv1 (Conv2D)       (None, None, None, 128)   73856     \n",
            "                                                                 \n",
            " block2_conv2 (Conv2D)       (None, None, None, 128)   147584    \n",
            "                                                                 \n",
            " block2_pool (MaxPooling2D)  (None, None, None, 128)   0         \n",
            "                                                                 \n",
            " block3_conv1 (Conv2D)       (None, None, None, 256)   295168    \n",
            "                                                                 \n",
            " block3_conv2 (Conv2D)       (None, None, None, 256)   590080    \n",
            "                                                                 \n",
            " block3_conv3 (Conv2D)       (None, None, None, 256)   590080    \n",
            "                                                                 \n",
            " block3_pool (MaxPooling2D)  (None, None, None, 256)   0         \n",
            "                                                                 \n",
            " block4_conv1 (Conv2D)       (None, None, None, 512)   1180160   \n",
            "                                                                 \n",
            " block4_conv2 (Conv2D)       (None, None, None, 512)   2359808   \n",
            "                                                                 \n",
            " block4_conv3 (Conv2D)       (None, None, None, 512)   2359808   \n",
            "                                                                 \n",
            " block4_pool (MaxPooling2D)  (None, None, None, 512)   0         \n",
            "                                                                 \n",
            " block5_conv1 (Conv2D)       (None, None, None, 512)   2359808   \n",
            "                                                                 \n",
            " block5_conv2 (Conv2D)       (None, None, None, 512)   2359808   \n",
            "                                                                 \n",
            " block5_conv3 (Conv2D)       (None, None, None, 512)   2359808   \n",
            "                                                                 \n",
            " block5_pool (MaxPooling2D)  (None, None, None, 512)   0         \n",
            "                                                                 \n",
            "=================================================================\n",
            "Total params: 14,714,688\n",
            "Trainable params: 0\n",
            "Non-trainable params: 14,714,688\n",
            "_________________________________________________________________\n"
          ]
        }
      ],
      "source": [
        "conv_base.summary()"
      ]
    },
    {
      "cell_type": "markdown",
      "metadata": {
        "id": "SqF77Kh15zHt"
      },
      "source": [
        "**Freezing all layers until the fourth from the last**"
      ]
    },
    {
      "cell_type": "code",
      "execution_count": 43,
      "metadata": {
        "id": "2wkpshXO6ANs"
      },
      "outputs": [],
      "source": [
        "conv_base.trainable = True\n",
        "for layer in conv_base.layers[:-4]:\n",
        "    layer.trainable = False"
      ]
    },
    {
      "cell_type": "markdown",
      "metadata": {
        "id": "658tNLyI6D4l"
      },
      "source": [
        "**Fine-tuning the model**"
      ]
    },
    {
      "cell_type": "code",
      "execution_count": 44,
      "metadata": {
        "id": "xLHmbKMq6HeP",
        "colab": {
          "base_uri": "https://localhost:8080/"
        },
        "outputId": "4926dcd1-8c35-4f9e-f240-e16105818e01"
      },
      "outputs": [
        {
          "output_type": "stream",
          "name": "stdout",
          "text": [
            "Epoch 1/10\n",
            "63/63 [==============================] - 1009s 16s/step - loss: 1.2212 - accuracy: 0.9820 - val_loss: 3.5393 - val_accuracy: 0.9740\n",
            "Epoch 2/10\n",
            "63/63 [==============================] - 1024s 16s/step - loss: 1.2315 - accuracy: 0.9835 - val_loss: 2.6996 - val_accuracy: 0.9740\n",
            "Epoch 3/10\n",
            "63/63 [==============================] - 1026s 16s/step - loss: 0.9492 - accuracy: 0.9835 - val_loss: 2.1635 - val_accuracy: 0.9810\n",
            "Epoch 4/10\n",
            "63/63 [==============================] - 1027s 16s/step - loss: 0.7391 - accuracy: 0.9830 - val_loss: 2.1009 - val_accuracy: 0.9790\n",
            "Epoch 5/10\n",
            "63/63 [==============================] - 1017s 16s/step - loss: 0.5241 - accuracy: 0.9905 - val_loss: 2.0310 - val_accuracy: 0.9830\n",
            "Epoch 6/10\n",
            "63/63 [==============================] - 1015s 16s/step - loss: 0.4900 - accuracy: 0.9890 - val_loss: 2.6797 - val_accuracy: 0.9730\n",
            "Epoch 7/10\n",
            "63/63 [==============================] - 1008s 16s/step - loss: 0.4228 - accuracy: 0.9915 - val_loss: 1.4823 - val_accuracy: 0.9800\n",
            "Epoch 8/10\n",
            "63/63 [==============================] - 1011s 16s/step - loss: 0.4666 - accuracy: 0.9880 - val_loss: 1.9494 - val_accuracy: 0.9770\n",
            "Epoch 9/10\n",
            "63/63 [==============================] - 1010s 16s/step - loss: 0.5803 - accuracy: 0.9855 - val_loss: 1.8428 - val_accuracy: 0.9760\n",
            "Epoch 10/10\n",
            "63/63 [==============================] - 1019s 16s/step - loss: 0.6075 - accuracy: 0.9880 - val_loss: 2.1026 - val_accuracy: 0.9750\n"
          ]
        }
      ],
      "source": [
        "model.compile(loss=\"binary_crossentropy\",\n",
        "              optimizer=keras.optimizers.RMSprop(learning_rate=1e-5),\n",
        "              metrics=[\"accuracy\"])\n",
        "\n",
        "callbacks = [\n",
        "    keras.callbacks.ModelCheckpoint(\n",
        "        filepath=\"fine_tuning.keras\",\n",
        "        save_best_only=True,\n",
        "        monitor=\"val_loss\")\n",
        "]\n",
        "history = model.fit(\n",
        "    train_dataset,\n",
        "    epochs=10,\n",
        "    validation_data=validation_dataset,\n",
        "    callbacks=callbacks)"
      ]
    },
    {
      "cell_type": "code",
      "execution_count": 45,
      "metadata": {
        "id": "NbbGpzPJ6LFt",
        "colab": {
          "base_uri": "https://localhost:8080/"
        },
        "outputId": "48933141-c6a7-450a-e514-e63ee32115f2"
      },
      "outputs": [
        {
          "output_type": "stream",
          "name": "stdout",
          "text": [
            "32/32 [==============================] - 298s 9s/step - loss: 1.8071 - accuracy: 0.9800\n",
            "Test accuracy: 0.980\n"
          ]
        }
      ],
      "source": [
        "model = keras.models.load_model(\"fine_tuning.keras\")\n",
        "test_loss, test_acc = model.evaluate(test_dataset)\n",
        "print(f\"Test accuracy: {test_acc:.3f}\")"
      ]
    },
    {
      "cell_type": "markdown",
      "source": [
        "# **Summary**\n",
        "Initially I have taken a small convnet of 1000 trainng samples and validation and test sample size of 500 each and there is no optimization. So, the accuracy is just 71.6% due to overfitting. Later, we have introduced data augmentation,early stopping, dropout and the accuracy Dropped 54.7 %.\n",
        "\n",
        "Pretrained model without augmentation A pretrained model gives more accuracy than the model which is built from scratch. Here we got validation accuracy of 96.7% which is far better than that we got from building a model from scratch.\n",
        "\n",
        "Pretrained model with augmentation Here the validation accuracy slightly increased from 96.7% to 97.5%\n",
        "\n",
        "Using predefined model with fine tuning gave 98.0% test accuracy."
      ],
      "metadata": {
        "id": "ro1ikzmvvOrt"
      }
    }
  ],
  "metadata": {
    "colab": {
      "collapsed_sections": [],
      "provenance": []
    },
    "kernelspec": {
      "display_name": "Python 3",
      "name": "python3"
    },
    "language_info": {
      "name": "python"
    }
  },
  "nbformat": 4,
  "nbformat_minor": 0
}