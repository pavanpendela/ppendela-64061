{
  "nbformat": 4,
  "nbformat_minor": 0,
  "metadata": {
    "colab": {
      "provenance": [],
      "collapsed_sections": [],
      "authorship_tag": "ABX9TyPQ5xBIXZVSFbNySyPwMxw3",
      "include_colab_link": true
    },
    "kernelspec": {
      "name": "python3",
      "display_name": "Python 3"
    },
    "language_info": {
      "name": "python"
    }
  },
  "cells": [
    {
      "cell_type": "markdown",
      "metadata": {
        "id": "view-in-github",
        "colab_type": "text"
      },
      "source": [
        "<a href=\"https://colab.research.google.com/github/pavanpendela/ppendela-64061/blob/main/Imdb.ipynb\" target=\"_parent\"><img src=\"https://colab.research.google.com/assets/colab-badge.svg\" alt=\"Open In Colab\"/></a>"
      ]
    },
    {
      "cell_type": "code",
      "execution_count": 1,
      "metadata": {
        "colab": {
          "base_uri": "https://localhost:8080/",
          "height": 36
        },
        "id": "kF8BsjUKsUlh",
        "outputId": "cec264bb-b2ff-456a-b034-ed52cbcdfb11"
      },
      "outputs": [
        {
          "output_type": "execute_result",
          "data": {
            "text/plain": [
              "'2.8.0'"
            ],
            "application/vnd.google.colaboratory.intrinsic+json": {
              "type": "string"
            }
          },
          "metadata": {},
          "execution_count": 1
        }
      ],
      "source": [
        "import keras\n",
        "keras.__version__"
      ]
    },
    {
      "cell_type": "markdown",
      "source": [
        "Importing IMDB Dataset from Keras and splitting the data into Training and Testing sets along with Labels.\n",
        "\n",
        "We are using the most frequently used 10000 words disregarding the other words."
      ],
      "metadata": {
        "id": "3INYJgi4tqSd"
      }
    },
    {
      "cell_type": "code",
      "source": [
        "from keras.datasets import imdb\n",
        "\n",
        "(train_data, train_labels), (test_data, test_labels) = imdb.load_data(num_words=10000)"
      ],
      "metadata": {
        "id": "TCO6JxfPtzUR"
      },
      "execution_count": 4,
      "outputs": []
    },
    {
      "cell_type": "markdown",
      "source": [
        "Display the Training Data and Training Lables"
      ],
      "metadata": {
        "id": "5GCh9XjvuIbq"
      }
    },
    {
      "cell_type": "code",
      "source": [
        "train_data[0]"
      ],
      "metadata": {
        "colab": {
          "base_uri": "https://localhost:8080/"
        },
        "id": "4my_awRguRHd",
        "outputId": "6bc0782a-71a8-4ad2-ffb6-422382084eee"
      },
      "execution_count": 6,
      "outputs": [
        {
          "output_type": "execute_result",
          "data": {
            "text/plain": [
              "[1,\n",
              " 14,\n",
              " 22,\n",
              " 16,\n",
              " 43,\n",
              " 530,\n",
              " 973,\n",
              " 1622,\n",
              " 1385,\n",
              " 65,\n",
              " 458,\n",
              " 4468,\n",
              " 66,\n",
              " 3941,\n",
              " 4,\n",
              " 173,\n",
              " 36,\n",
              " 256,\n",
              " 5,\n",
              " 25,\n",
              " 100,\n",
              " 43,\n",
              " 838,\n",
              " 112,\n",
              " 50,\n",
              " 670,\n",
              " 2,\n",
              " 9,\n",
              " 35,\n",
              " 480,\n",
              " 284,\n",
              " 5,\n",
              " 150,\n",
              " 4,\n",
              " 172,\n",
              " 112,\n",
              " 167,\n",
              " 2,\n",
              " 336,\n",
              " 385,\n",
              " 39,\n",
              " 4,\n",
              " 172,\n",
              " 4536,\n",
              " 1111,\n",
              " 17,\n",
              " 546,\n",
              " 38,\n",
              " 13,\n",
              " 447,\n",
              " 4,\n",
              " 192,\n",
              " 50,\n",
              " 16,\n",
              " 6,\n",
              " 147,\n",
              " 2025,\n",
              " 19,\n",
              " 14,\n",
              " 22,\n",
              " 4,\n",
              " 1920,\n",
              " 4613,\n",
              " 469,\n",
              " 4,\n",
              " 22,\n",
              " 71,\n",
              " 87,\n",
              " 12,\n",
              " 16,\n",
              " 43,\n",
              " 530,\n",
              " 38,\n",
              " 76,\n",
              " 15,\n",
              " 13,\n",
              " 1247,\n",
              " 4,\n",
              " 22,\n",
              " 17,\n",
              " 515,\n",
              " 17,\n",
              " 12,\n",
              " 16,\n",
              " 626,\n",
              " 18,\n",
              " 2,\n",
              " 5,\n",
              " 62,\n",
              " 386,\n",
              " 12,\n",
              " 8,\n",
              " 316,\n",
              " 8,\n",
              " 106,\n",
              " 5,\n",
              " 4,\n",
              " 2223,\n",
              " 5244,\n",
              " 16,\n",
              " 480,\n",
              " 66,\n",
              " 3785,\n",
              " 33,\n",
              " 4,\n",
              " 130,\n",
              " 12,\n",
              " 16,\n",
              " 38,\n",
              " 619,\n",
              " 5,\n",
              " 25,\n",
              " 124,\n",
              " 51,\n",
              " 36,\n",
              " 135,\n",
              " 48,\n",
              " 25,\n",
              " 1415,\n",
              " 33,\n",
              " 6,\n",
              " 22,\n",
              " 12,\n",
              " 215,\n",
              " 28,\n",
              " 77,\n",
              " 52,\n",
              " 5,\n",
              " 14,\n",
              " 407,\n",
              " 16,\n",
              " 82,\n",
              " 2,\n",
              " 8,\n",
              " 4,\n",
              " 107,\n",
              " 117,\n",
              " 5952,\n",
              " 15,\n",
              " 256,\n",
              " 4,\n",
              " 2,\n",
              " 7,\n",
              " 3766,\n",
              " 5,\n",
              " 723,\n",
              " 36,\n",
              " 71,\n",
              " 43,\n",
              " 530,\n",
              " 476,\n",
              " 26,\n",
              " 400,\n",
              " 317,\n",
              " 46,\n",
              " 7,\n",
              " 4,\n",
              " 2,\n",
              " 1029,\n",
              " 13,\n",
              " 104,\n",
              " 88,\n",
              " 4,\n",
              " 381,\n",
              " 15,\n",
              " 297,\n",
              " 98,\n",
              " 32,\n",
              " 2071,\n",
              " 56,\n",
              " 26,\n",
              " 141,\n",
              " 6,\n",
              " 194,\n",
              " 7486,\n",
              " 18,\n",
              " 4,\n",
              " 226,\n",
              " 22,\n",
              " 21,\n",
              " 134,\n",
              " 476,\n",
              " 26,\n",
              " 480,\n",
              " 5,\n",
              " 144,\n",
              " 30,\n",
              " 5535,\n",
              " 18,\n",
              " 51,\n",
              " 36,\n",
              " 28,\n",
              " 224,\n",
              " 92,\n",
              " 25,\n",
              " 104,\n",
              " 4,\n",
              " 226,\n",
              " 65,\n",
              " 16,\n",
              " 38,\n",
              " 1334,\n",
              " 88,\n",
              " 12,\n",
              " 16,\n",
              " 283,\n",
              " 5,\n",
              " 16,\n",
              " 4472,\n",
              " 113,\n",
              " 103,\n",
              " 32,\n",
              " 15,\n",
              " 16,\n",
              " 5345,\n",
              " 19,\n",
              " 178,\n",
              " 32]"
            ]
          },
          "metadata": {},
          "execution_count": 6
        }
      ]
    },
    {
      "cell_type": "code",
      "source": [
        "train_labels[0]"
      ],
      "metadata": {
        "colab": {
          "base_uri": "https://localhost:8080/"
        },
        "id": "MWcGdt4Luiv_",
        "outputId": "2bfa7b4a-f1df-49ff-a4c5-44a375f8a0d5"
      },
      "execution_count": 7,
      "outputs": [
        {
          "output_type": "execute_result",
          "data": {
            "text/plain": [
              "1"
            ]
          },
          "metadata": {},
          "execution_count": 7
        }
      ]
    },
    {
      "cell_type": "markdown",
      "source": [
        "Modifying the data into integers (vectorizing or concerting into tensors)using one hot encoding."
      ],
      "metadata": {
        "id": "jAxtu5-Uupni"
      }
    },
    {
      "cell_type": "code",
      "source": [
        "import numpy as np\n",
        "\n",
        "def vectorize_sequences(sequences, dimension=10000):\n",
        "    # Create an all-zero matrix of shape (len(sequences), dimension)\n",
        "    results = np.zeros((len(sequences), dimension))\n",
        "    for i, sequence in enumerate(sequences):\n",
        "        results[i, sequence] = 1.  # set specific indices of results[i] to 1s\n",
        "    return results\n",
        "\n",
        "# Our vectorized training data\n",
        "x_train = vectorize_sequences(train_data)\n",
        "# Our vectorized test data\n",
        "x_test = vectorize_sequences(test_data)"
      ],
      "metadata": {
        "id": "EiofR9miuuCW"
      },
      "execution_count": 9,
      "outputs": []
    },
    {
      "cell_type": "markdown",
      "source": [
        "Displaying the training data after vectorizing"
      ],
      "metadata": {
        "id": "yPGPGsVmu9-G"
      }
    },
    {
      "cell_type": "code",
      "source": [
        "x_train[0]"
      ],
      "metadata": {
        "colab": {
          "base_uri": "https://localhost:8080/"
        },
        "id": "kGmCUo7mu_TB",
        "outputId": "97ce8bf3-b735-4dd8-e5ff-2984effee85a"
      },
      "execution_count": 10,
      "outputs": [
        {
          "output_type": "execute_result",
          "data": {
            "text/plain": [
              "array([0., 1., 1., ..., 0., 0., 0.])"
            ]
          },
          "metadata": {},
          "execution_count": 10
        }
      ]
    },
    {
      "cell_type": "markdown",
      "source": [
        "Vectorization of Labels"
      ],
      "metadata": {
        "id": "_uFh6vswvF2P"
      }
    },
    {
      "cell_type": "code",
      "source": [
        "# Our vectorized labels\n",
        "y_train = np.asarray(train_labels).astype('float32')\n",
        "y_test = np.asarray(test_labels).astype('float32')"
      ],
      "metadata": {
        "id": "NgumC9g1vJQv"
      },
      "execution_count": 11,
      "outputs": []
    },
    {
      "cell_type": "markdown",
      "source": [
        "Building the network (Hypothesis space); 16 nodes in the first hidden layer and 16 nodes in the second hidden layer and 1 node in the output layer.\n",
        "\n",
        "First two layers use Relu activation and the last layer use Sigmoid as output should give probabilities."
      ],
      "metadata": {
        "id": "lV2bXXuwvTO-"
      }
    },
    {
      "cell_type": "code",
      "source": [
        "from keras import models\n",
        "from keras import layers\n",
        "from keras.layers import Dropout\n",
        "from keras.constraints import maxnorm\n",
        "\n",
        "model = models.Sequential()\n",
        "model.add(Dropout(0.2, input_shape=(10000,)))\n",
        "model.add(layers.Dense(16, activation='relu',kernel_constraint=maxnorm(3)))\n",
        "model.add(layers.Dense(16, activation='relu',kernel_constraint=maxnorm(3)))\n",
        "model.add(layers.Dense(1, activation='sigmoid'))"
      ],
      "metadata": {
        "id": "UCIEppLfvUep"
      },
      "execution_count": 13,
      "outputs": []
    },
    {
      "cell_type": "markdown",
      "source": [
        "Implementing Optimizer along with loss function. We will use Binary Crossentropy as the loss function as its the most appropriate one for binary data."
      ],
      "metadata": {
        "id": "H1NnsOUcvdTd"
      }
    },
    {
      "cell_type": "code",
      "source": [
        "from tensorflow.keras.optimizers import RMSprop\n",
        "\n",
        "rmsprop = RMSprop(learning_rate=0.1, momentum=0.9)\n",
        "model.compile(optimizer='rmsprop',\n",
        "              loss='binary_crossentropy',\n",
        "              metrics=['accuracy'])"
      ],
      "metadata": {
        "id": "hbeQnd_YviDW"
      },
      "execution_count": 15,
      "outputs": []
    },
    {
      "cell_type": "markdown",
      "source": [
        "Creating Validation sets and validation labels from x_train , y_train to test (intermediate testing) the model after training without using the test set yet."
      ],
      "metadata": {
        "id": "MEL0Ze8nvwsh"
      }
    },
    {
      "cell_type": "code",
      "source": [
        "x_val = x_train[:10000]\n",
        "partial_x_train = x_train[10000:]\n",
        "\n",
        "y_val = y_train[:10000]\n",
        "partial_y_train = y_train[10000:]"
      ],
      "metadata": {
        "id": "kuf3rSgQvxlQ"
      },
      "execution_count": 17,
      "outputs": []
    },
    {
      "cell_type": "markdown",
      "source": [
        "Training the model with a batch size of 512 for 20 epochs.\n",
        "\n",
        "From the results , we can see that though trainig loss is decreasing for each epoch, validation loss decreased till 4 epochs and then started to going up afterwards, indicating that 4 epochs are ideal."
      ],
      "metadata": {
        "id": "ZdVqMu-Rv1-h"
      }
    },
    {
      "cell_type": "code",
      "source": [
        "history = model.fit(partial_x_train,\n",
        "                    partial_y_train,\n",
        "                    epochs=20,\n",
        "                    batch_size=512,\n",
        "                    validation_data=(x_val, y_val))"
      ],
      "metadata": {
        "colab": {
          "base_uri": "https://localhost:8080/"
        },
        "id": "3gkgA-Nhv7Nr",
        "outputId": "dd91bf1e-673e-45a0-cc45-7c63315abd47"
      },
      "execution_count": 18,
      "outputs": [
        {
          "output_type": "stream",
          "name": "stdout",
          "text": [
            "Epoch 1/20\n",
            "30/30 [==============================] - 4s 110ms/step - loss: 0.5323 - accuracy: 0.7709 - val_loss: 0.4051 - val_accuracy: 0.8705\n",
            "Epoch 2/20\n",
            "30/30 [==============================] - 3s 96ms/step - loss: 0.3440 - accuracy: 0.8867 - val_loss: 0.3287 - val_accuracy: 0.8825\n",
            "Epoch 3/20\n",
            "30/30 [==============================] - 3s 94ms/step - loss: 0.2676 - accuracy: 0.9088 - val_loss: 0.2917 - val_accuracy: 0.8900\n",
            "Epoch 4/20\n",
            "30/30 [==============================] - 3s 98ms/step - loss: 0.2262 - accuracy: 0.9219 - val_loss: 0.2778 - val_accuracy: 0.8912\n",
            "Epoch 5/20\n",
            "30/30 [==============================] - 3s 94ms/step - loss: 0.1989 - accuracy: 0.9285 - val_loss: 0.2962 - val_accuracy: 0.8818\n",
            "Epoch 6/20\n",
            "30/30 [==============================] - 3s 96ms/step - loss: 0.1727 - accuracy: 0.9395 - val_loss: 0.2775 - val_accuracy: 0.8906\n",
            "Epoch 7/20\n",
            "30/30 [==============================] - 3s 93ms/step - loss: 0.1603 - accuracy: 0.9419 - val_loss: 0.2985 - val_accuracy: 0.8824\n",
            "Epoch 8/20\n",
            "30/30 [==============================] - 3s 95ms/step - loss: 0.1536 - accuracy: 0.9425 - val_loss: 0.2913 - val_accuracy: 0.8863\n",
            "Epoch 9/20\n",
            "30/30 [==============================] - 3s 99ms/step - loss: 0.1475 - accuracy: 0.9473 - val_loss: 0.2939 - val_accuracy: 0.8846\n",
            "Epoch 10/20\n",
            "30/30 [==============================] - 3s 96ms/step - loss: 0.1402 - accuracy: 0.9493 - val_loss: 0.3106 - val_accuracy: 0.8816\n",
            "Epoch 11/20\n",
            "30/30 [==============================] - 3s 94ms/step - loss: 0.1336 - accuracy: 0.9509 - val_loss: 0.3055 - val_accuracy: 0.8832\n",
            "Epoch 12/20\n",
            "30/30 [==============================] - 3s 110ms/step - loss: 0.1370 - accuracy: 0.9473 - val_loss: 0.3088 - val_accuracy: 0.8814\n",
            "Epoch 13/20\n",
            "30/30 [==============================] - 3s 113ms/step - loss: 0.1317 - accuracy: 0.9511 - val_loss: 0.3203 - val_accuracy: 0.8769\n",
            "Epoch 14/20\n",
            "30/30 [==============================] - 3s 99ms/step - loss: 0.1257 - accuracy: 0.9551 - val_loss: 0.3154 - val_accuracy: 0.8799\n",
            "Epoch 15/20\n",
            "30/30 [==============================] - 3s 99ms/step - loss: 0.1235 - accuracy: 0.9546 - val_loss: 0.3870 - val_accuracy: 0.8603\n",
            "Epoch 16/20\n",
            "30/30 [==============================] - 3s 94ms/step - loss: 0.1182 - accuracy: 0.9571 - val_loss: 0.3285 - val_accuracy: 0.8799\n",
            "Epoch 17/20\n",
            "30/30 [==============================] - 3s 97ms/step - loss: 0.1178 - accuracy: 0.9565 - val_loss: 0.3580 - val_accuracy: 0.8726\n",
            "Epoch 18/20\n",
            "30/30 [==============================] - 3s 95ms/step - loss: 0.1122 - accuracy: 0.9609 - val_loss: 0.3353 - val_accuracy: 0.8782\n",
            "Epoch 19/20\n",
            "30/30 [==============================] - 3s 96ms/step - loss: 0.1186 - accuracy: 0.9557 - val_loss: 0.4205 - val_accuracy: 0.8572\n",
            "Epoch 20/20\n",
            "30/30 [==============================] - 3s 111ms/step - loss: 0.1206 - accuracy: 0.9545 - val_loss: 0.3395 - val_accuracy: 0.8780\n"
          ]
        }
      ]
    },
    {
      "cell_type": "markdown",
      "source": [
        "Displaying the history (part of History object resulting from the training) member."
      ],
      "metadata": {
        "id": "bVF4Mf76wKGv"
      }
    },
    {
      "cell_type": "code",
      "source": [
        "history_dict = history.history\n",
        "history_dict.keys()"
      ],
      "metadata": {
        "colab": {
          "base_uri": "https://localhost:8080/"
        },
        "id": "7CtPHtptwLB1",
        "outputId": "36799b46-b939-4d46-bff3-67e9593bf64e"
      },
      "execution_count": 19,
      "outputs": [
        {
          "output_type": "execute_result",
          "data": {
            "text/plain": [
              "dict_keys(['loss', 'accuracy', 'val_loss', 'val_accuracy'])"
            ]
          },
          "metadata": {},
          "execution_count": 19
        }
      ]
    },
    {
      "cell_type": "markdown",
      "source": [
        "Plotiing the training loss vs validation loss."
      ],
      "metadata": {
        "id": "XcZcmcnIw27R"
      }
    },
    {
      "cell_type": "code",
      "source": [
        "import matplotlib.pyplot as plt\n",
        "\n",
        "accuracy = history.history['accuracy']\n",
        "val_accuracy = history.history['val_accuracy']\n",
        "loss = history.history['loss']\n",
        "val_loss = history.history['val_loss']\n",
        "\n",
        "epochs = range(1, len(accuracy) + 1)\n",
        "\n",
        "# \"bo\" is for \"blue dot\"\n",
        "plt.plot(epochs, loss, 'bo', label='Training loss')\n",
        "# b is for \"solid blue line\"\n",
        "plt.plot(epochs, val_loss, 'b', label='Validation loss')\n",
        "plt.title('Training and validation loss')\n",
        "plt.xlabel('Epochs')\n",
        "plt.ylabel('Loss')\n",
        "plt.legend()\n",
        "\n",
        "plt.show()"
      ],
      "metadata": {
        "colab": {
          "base_uri": "https://localhost:8080/",
          "height": 295
        },
        "id": "rYzY8SVdw-Ga",
        "outputId": "dac3256b-8ff4-4cf9-c20a-5bf6a6be8ee5"
      },
      "execution_count": 20,
      "outputs": [
        {
          "output_type": "display_data",
          "data": {
            "text/plain": [
              "<Figure size 432x288 with 1 Axes>"
            ],
            "image/png": "[encoded data removed]"
          },
          "metadata": {
            "needs_background": "light"
          }
        }
      ]
    },
    {
      "cell_type": "markdown",
      "source": [
        "Plotiing the training accuracy vs validation accuracy. Even validation accuracy started to go down after 3 epochs.\n",
        "\n",
        "Therefore, model is over fitting after 3/4 epochs. Hence we should stick to a maximum 4 epochs for trainig the model."
      ],
      "metadata": {
        "id": "Tvm--U6uxEtj"
      }
    },
    {
      "cell_type": "code",
      "source": [
        "plt.clf()   # clear figure\n",
        "acc_values = history_dict['accuracy']\n",
        "val_acc_values = history_dict['val_accuracy']\n",
        "\n",
        "plt.plot(epochs, accuracy, 'bo', label='Training accuracy')\n",
        "plt.plot(epochs, val_accuracy, 'b', label='Validation accuracy')\n",
        "plt.title('Training and validation accuracy')\n",
        "plt.xlabel('Epochs')\n",
        "plt.ylabel('Accuracy')\n",
        "plt.legend()\n",
        "\n",
        "plt.show()"
      ],
      "metadata": {
        "colab": {
          "base_uri": "https://localhost:8080/",
          "height": 295
        },
        "id": "S4uHFj5RxJcr",
        "outputId": "2cc0c875-38be-4b90-a2a8-ccd20639eb3f"
      },
      "execution_count": 21,
      "outputs": [
        {
          "output_type": "display_data",
          "data": {
            "text/plain": [
              "<Figure size 432x288 with 1 Axes>"
            ],
            "image/png": "[encoded data removed]"
          },
          "metadata": {
            "needs_background": "light"
          }
        }
      ]
    },
    {
      "cell_type": "markdown",
      "source": [
        "Re-training the model with 4 epochs without changing any other (hyper)parameters and then evaluating the model on test data."
      ],
      "metadata": {
        "id": "YsHW6va3xPhL"
      }
    },
    {
      "cell_type": "code",
      "source": [
        "model = models.Sequential()\n",
        "model.add(layers.Dense(16, activation='relu', input_shape=(10000,)))\n",
        "model.add(layers.Dense(16, activation='relu'))\n",
        "model.add(layers.Dense(1, activation='sigmoid'))\n",
        "\n",
        "model.compile(optimizer='rmsprop',\n",
        "              loss='binary_crossentropy',\n",
        "              metrics=['accuracy'])\n",
        "\n",
        "model.fit(x_train, y_train, epochs=4, batch_size=512)\n",
        "results = model.evaluate(x_test, y_test)"
      ],
      "metadata": {
        "colab": {
          "base_uri": "https://localhost:8080/"
        },
        "id": "ZqTQcIWXxUT5",
        "outputId": "7c45d3c0-5353-413d-ca6a-baf490d9800c"
      },
      "execution_count": 22,
      "outputs": [
        {
          "output_type": "stream",
          "name": "stdout",
          "text": [
            "Epoch 1/4\n",
            "49/49 [==============================] - 3s 29ms/step - loss: 0.4546 - accuracy: 0.8197\n",
            "Epoch 2/4\n",
            "49/49 [==============================] - 1s 28ms/step - loss: 0.2588 - accuracy: 0.9116\n",
            "Epoch 3/4\n",
            "49/49 [==============================] - 1s 29ms/step - loss: 0.2001 - accuracy: 0.9300\n",
            "Epoch 4/4\n",
            "49/49 [==============================] - 2s 36ms/step - loss: 0.1681 - accuracy: 0.9397\n",
            "782/782 [==============================] - 2s 2ms/step - loss: 0.2959 - accuracy: 0.8832\n"
          ]
        }
      ]
    },
    {
      "cell_type": "markdown",
      "source": [
        "Displaying the accuracy and loss on test data. accuracy is at 88%."
      ],
      "metadata": {
        "id": "_h1XRMvYxaSp"
      }
    },
    {
      "cell_type": "code",
      "source": [
        "results"
      ],
      "metadata": {
        "colab": {
          "base_uri": "https://localhost:8080/"
        },
        "id": "UQcuVFcCxfPn",
        "outputId": "8bc344d2-d0c6-48a9-a6b8-fa3b63d8544f"
      },
      "execution_count": 23,
      "outputs": [
        {
          "output_type": "execute_result",
          "data": {
            "text/plain": [
              "[0.2958522140979767, 0.8832399845123291]"
            ]
          },
          "metadata": {},
          "execution_count": 23
        }
      ]
    },
    {
      "cell_type": "markdown",
      "source": [
        "Predicting the output probabilities for the test data. Probability is as high as 0.99 for some and very poor for some."
      ],
      "metadata": {
        "id": "7_iJUDtdxnZ_"
      }
    },
    {
      "cell_type": "code",
      "source": [
        "model.predict(x_test)"
      ],
      "metadata": {
        "colab": {
          "base_uri": "https://localhost:8080/"
        },
        "id": "IbUmZhqFxrbS",
        "outputId": "c833b591-e189-4532-e968-5fee5d000baa"
      },
      "execution_count": 24,
      "outputs": [
        {
          "output_type": "execute_result",
          "data": {
            "text/plain": [
              "array([[0.16098744],\n",
              "       [0.9996564 ],\n",
              "       [0.84514046],\n",
              "       ...,\n",
              "       [0.10853302],\n",
              "       [0.05402672],\n",
              "       [0.53513974]], dtype=float32)"
            ]
          },
          "metadata": {},
          "execution_count": 24
        }
      ]
    },
    {
      "cell_type": "markdown",
      "source": [
        "1.There is no change in the results if we decrease one hidden layer. However, if we add another layer then the validation loss is going up after 3 epochs and accuracy is also going down after 3 epochs.\n",
        "\n",
        "2.When we decrease the nodes from 16 to 8 then the optimal epochs are seen at 5 , where as if we increase the node size to 32 its seen at 2 and also a bit of zig zag results.\n",
        "\n",
        "3.when MSE is used as loss function optimal is seen at 4 epochs.\n",
        "\n",
        "4.When tanh activation is used validation loss is going up after 3 epochs and accuracy is going down after 3 epochs.\n",
        "\n",
        "5.After applying drop out validation loss is going up after 4 epochs and so accuracy is decreasing. Nevertheless, test accuracy has dropped a bit.\n",
        "\n",
        "Dropout rate is 20% and learniong rate is increased by 0.9 from the default rate of 0.01. Note: All the comments are for the original settings"
      ],
      "metadata": {
        "id": "vnhQaK8Wx9Gb"
      }
    }
  ]
}